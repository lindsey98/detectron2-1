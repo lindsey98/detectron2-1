{
 "cells": [
  {
   "cell_type": "code",
   "execution_count": 1,
   "metadata": {},
   "outputs": [],
   "source": [
    "import os\n",
    "os.chdir('..')\n",
    "import shutil"
   ]
  },
  {
   "cell_type": "code",
   "execution_count": 2,
   "metadata": {},
   "outputs": [],
   "source": [
    "from detectron2_1.AL.AL_select import *"
   ]
  },
  {
   "cell_type": "code",
   "execution_count": 3,
   "metadata": {},
   "outputs": [],
   "source": [
    "import pickle\n",
    "import json\n",
    "import numpy as np\n",
    "import torch\n",
    "from tqdm import tqdm"
   ]
  },
  {
   "cell_type": "markdown",
   "metadata": {},
   "source": [
    "## Score aggregation"
   ]
  },
  {
   "cell_type": "code",
   "execution_count": 4,
   "metadata": {},
   "outputs": [],
   "source": [
    "def score_agg(results):\n",
    "    '''\n",
    "    Aggregate score for each image by taking average\n",
    "    '''\n",
    "    file_name_list = []\n",
    "    score_list = []\n",
    "\n",
    "    for i, res in tqdm(enumerate(results)):\n",
    "        if res['file_name'] not in file_name_list: # see a brand new image\n",
    "            if i != 0: # append previous images' score\n",
    "                score_list.append(new_score)\n",
    "            file_name_list.append(res['file_name']) # append new file name\n",
    "            new_score = res['score_al'] # update score\n",
    "            new_ct = 1 # restart box count \n",
    "\n",
    "        else:\n",
    "            new_score = (res['score_al'] + new_score*new_ct) / (new_ct + 1) # update score (average)\n",
    "            new_ct += 1 # update box count \n",
    "\n",
    "    score_list.append(new_score) # append last images' score\n",
    "    return file_name_list, score_list"
   ]
  },
  {
   "cell_type": "code",
   "execution_count": 9,
   "metadata": {},
   "outputs": [],
   "source": [
    "with open('output/feature_emb.pkl', 'rb') as handle:\n",
    "    feature_emb = pickle.load(handle)\n",
    "    \n",
    "with open('output/entropy_al.json', 'r') as handle:\n",
    "    entropy = json.load(handle)\n",
    "    \n",
    "with open('output/margin_al.json', 'r') as handle:\n",
    "    margin = json.load(handle)\n",
    "    \n",
    "with open('output/perturb_al.json', 'r') as handle:\n",
    "    perturb = json.load(handle)"
   ]
  },
  {
   "cell_type": "code",
   "execution_count": 10,
   "metadata": {
    "scrolled": true
   },
   "outputs": [],
   "source": [
    "feature_embeddings = np.asarray([x['feature'] for x in feature_emb])\n",
    "\n",
    "feature_files = np.asarray([x['file_name'] for x in feature_emb])"
   ]
  },
  {
   "cell_type": "code",
   "execution_count": null,
   "metadata": {},
   "outputs": [
    {
     "name": "stderr",
     "output_type": "stream",
     "text": [
      "666027it [06:26, 807.02it/s]  "
     ]
    }
   ],
   "source": [
    "file_name_list, entropy_scores = score_agg(entropy)"
   ]
  },
  {
   "cell_type": "code",
   "execution_count": 7,
   "metadata": {},
   "outputs": [
    {
     "data": {
      "text/plain": [
       "765882"
      ]
     },
     "execution_count": 7,
     "metadata": {},
     "output_type": "execute_result"
    }
   ],
   "source": [
    "len(entropy)"
   ]
  },
  {
   "cell_type": "code",
   "execution_count": 8,
   "metadata": {},
   "outputs": [
    {
     "name": "stderr",
     "output_type": "stream",
     "text": [
      "765882it [10:59, 1161.09it/s] \n"
     ]
    }
   ],
   "source": [
    "file_name_list, margin_scores = score_agg(margin)"
   ]
  },
  {
   "cell_type": "code",
   "execution_count": null,
   "metadata": {},
   "outputs": [],
   "source": [
    "file_name_list, perturb_scores = score_agg(perturb)"
   ]
  },
  {
   "cell_type": "markdown",
   "metadata": {},
   "source": [
    "## Select"
   ]
  },
  {
   "cell_type": "code",
   "execution_count": 11,
   "metadata": {},
   "outputs": [],
   "source": [
    "## some images may not have predictions, simply ignore\n",
    "existance = list(map(lambda x: x in file_name_list, feature_files))\n",
    "\n",
    "## images without any predicted box\n",
    "mask = np.ones((len(feature_files),), bool)\n",
    "mask[np.where(np.asarray(existance) == False)[0]] = False # mask of shape (n,)\n",
    "\n",
    "## remove from feature embedddings\n",
    "feature_emb_select = feature_embeddings[mask,:]\n",
    "\n",
    "assert len(feature_emb_select) == len(margin_scores)"
   ]
  },
  {
   "cell_type": "code",
   "execution_count": 12,
   "metadata": {},
   "outputs": [
    {
     "name": "stdout",
     "output_type": "stream",
     "text": [
      "49030\n",
      "49030\n"
     ]
    }
   ],
   "source": [
    "print(len(feature_emb_select))\n",
    "print(len(margin_scores))"
   ]
  },
  {
   "cell_type": "code",
   "execution_count": null,
   "metadata": {},
   "outputs": [],
   "source": [
    "c_sets = kmeans_plus(S=entropy_scores, feat=feature_emb, N=5000)\n",
    "np.save('./detector_results/entropy_select5000_kmeans++.npy', c_sets)"
   ]
  },
  {
   "cell_type": "code",
   "execution_count": null,
   "metadata": {},
   "outputs": [],
   "source": [
    "c_sets = core_set(S=margin_scores, feat=feature_emb_select, N=5000)\n",
    "np.save('./detector_results/margin_select5000_coreset.npy', c_sets)"
   ]
  },
  {
   "cell_type": "code",
   "execution_count": null,
   "metadata": {},
   "outputs": [],
   "source": [
    "c_sets = kmeans_plus(S=margin_scores, feat=feature_emb_select, N=5000)\n",
    "np.save('./detector_results/margin_select5000_kmeans++.npy', c_sets)"
   ]
  }
 ],
 "metadata": {
  "kernelspec": {
   "display_name": "Python 3",
   "language": "python",
   "name": "python3"
  },
  "language_info": {
   "codemirror_mode": {
    "name": "ipython",
    "version": 3
   },
   "file_extension": ".py",
   "mimetype": "text/x-python",
   "name": "python",
   "nbconvert_exporter": "python",
   "pygments_lexer": "ipython3",
   "version": "3.7.7"
  }
 },
 "nbformat": 4,
 "nbformat_minor": 4
}
