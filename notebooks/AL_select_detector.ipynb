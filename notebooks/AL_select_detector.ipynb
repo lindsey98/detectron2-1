{
 "cells": [
  {
   "cell_type": "code",
   "execution_count": 1,
   "metadata": {},
   "outputs": [],
   "source": [
    "import os\n",
    "os.chdir('..')\n",
    "import shutil"
   ]
  },
  {
   "cell_type": "code",
   "execution_count": 3,
   "metadata": {},
   "outputs": [],
   "source": [
    "from detectron2_1.AL.AL_select import *"
   ]
  },
  {
   "cell_type": "code",
   "execution_count": 52,
   "metadata": {},
   "outputs": [],
   "source": [
    "import pickle\n",
    "import json\n",
    "import numpy as np\n",
    "import torch\n",
    "from tqdm import tqdm"
   ]
  },
  {
   "cell_type": "markdown",
   "metadata": {},
   "source": [
    "## Score aggregation"
   ]
  },
  {
   "cell_type": "code",
   "execution_count": 53,
   "metadata": {},
   "outputs": [],
   "source": [
    "def score_agg(results):\n",
    "    '''\n",
    "    Aggregate score for each image by taking average\n",
    "    '''\n",
    "    file_name_list = []\n",
    "    score_list = []\n",
    "\n",
    "    for i, res in tqdm(enumerate(results)):\n",
    "        if res['file_name'] not in file_name_list: # see a brand new image\n",
    "            if i != 0: # append previous images' score\n",
    "                score_list.append(new_score)\n",
    "            file_name_list.append(res['file_name']) # append new file name\n",
    "            new_score = res['score_al'] # update score\n",
    "            new_ct = 1 # restart box count \n",
    "\n",
    "        else:\n",
    "            new_score = (res['score_al'] + new_score*new_ct) / (new_ct + 1) # update score (average)\n",
    "            new_ct += 1 # update box count \n",
    "\n",
    "    score_list.append(new_score) # append last images' score\n",
    "    return file_name_list, score_list"
   ]
  },
  {
   "cell_type": "code",
   "execution_count": 62,
   "metadata": {},
   "outputs": [],
   "source": [
    "with open('output/feature_emb.pkl', 'rb') as handle:\n",
    "    feature_emb = pickle.load(handle)\n",
    "    \n",
    "with open('output/entropy_al.json', 'r') as handle:\n",
    "    entropy = json.load(handle)\n",
    "    \n",
    "with open('output/margin_al.json', 'r') as handle:\n",
    "    margin = json.load(handle)\n",
    "    \n",
    "with open('output/perturb_al.json', 'r') as handle:\n",
    "    perturb = json.load(handle)"
   ]
  },
  {
   "cell_type": "code",
   "execution_count": 64,
   "metadata": {},
   "outputs": [],
   "source": [
    "feature_embeddings = np.asarray([x['feature'] for x in feature_emb])\n",
    "\n",
    "feature_files = np.asarray([x['file_name'] for x in feature_emb])"
   ]
  },
  {
   "cell_type": "code",
   "execution_count": 57,
   "metadata": {},
   "outputs": [
    {
     "name": "stderr",
     "output_type": "stream",
     "text": [
      "765882it [09:14, 1380.69it/s] \n"
     ]
    }
   ],
   "source": [
    "file_name_list, entropy_scores = score_agg(entropy)"
   ]
  },
  {
   "cell_type": "code",
   "execution_count": 58,
   "metadata": {
    "collapsed": true
   },
   "outputs": [
    {
     "name": "stderr",
     "output_type": "stream",
     "text": [
      "63365it [00:02, 29196.31it/s] \n"
     ]
    },
    {
     "ename": "KeyboardInterrupt",
     "evalue": "",
     "output_type": "error",
     "traceback": [
      "\u001b[0;31m---------------------------------------------------------------------------\u001b[0m",
      "\u001b[0;31mKeyboardInterrupt\u001b[0m                         Traceback (most recent call last)",
      "\u001b[0;32m<ipython-input-58-a910aba66799>\u001b[0m in \u001b[0;36m<module>\u001b[0;34m\u001b[0m\n\u001b[0;32m----> 1\u001b[0;31m \u001b[0mfile_name_list\u001b[0m\u001b[0;34m,\u001b[0m \u001b[0mmargin_scores\u001b[0m \u001b[0;34m=\u001b[0m \u001b[0mscore_agg\u001b[0m\u001b[0;34m(\u001b[0m\u001b[0mmargin\u001b[0m\u001b[0;34m)\u001b[0m\u001b[0;34m\u001b[0m\u001b[0;34m\u001b[0m\u001b[0m\n\u001b[0m",
      "\u001b[0;32m<ipython-input-53-0cdb4c7d41fd>\u001b[0m in \u001b[0;36mscore_agg\u001b[0;34m(results)\u001b[0m\n\u001b[1;32m      4\u001b[0m \u001b[0;34m\u001b[0m\u001b[0m\n\u001b[1;32m      5\u001b[0m     \u001b[0;32mfor\u001b[0m \u001b[0mi\u001b[0m\u001b[0;34m,\u001b[0m \u001b[0mres\u001b[0m \u001b[0;32min\u001b[0m \u001b[0mtqdm\u001b[0m\u001b[0;34m(\u001b[0m\u001b[0menumerate\u001b[0m\u001b[0;34m(\u001b[0m\u001b[0mresults\u001b[0m\u001b[0;34m)\u001b[0m\u001b[0;34m)\u001b[0m\u001b[0;34m:\u001b[0m\u001b[0;34m\u001b[0m\u001b[0;34m\u001b[0m\u001b[0m\n\u001b[0;32m----> 6\u001b[0;31m         \u001b[0;32mif\u001b[0m \u001b[0mres\u001b[0m\u001b[0;34m[\u001b[0m\u001b[0;34m'file_name'\u001b[0m\u001b[0;34m]\u001b[0m \u001b[0;32mnot\u001b[0m \u001b[0;32min\u001b[0m \u001b[0mfile_name_list\u001b[0m\u001b[0;34m:\u001b[0m\u001b[0;34m\u001b[0m\u001b[0;34m\u001b[0m\u001b[0m\n\u001b[0m\u001b[1;32m      7\u001b[0m             \u001b[0;32mif\u001b[0m \u001b[0mi\u001b[0m \u001b[0;34m!=\u001b[0m \u001b[0;36m0\u001b[0m\u001b[0;34m:\u001b[0m \u001b[0;31m# append last images' score\u001b[0m\u001b[0;34m\u001b[0m\u001b[0;34m\u001b[0m\u001b[0m\n\u001b[1;32m      8\u001b[0m                 \u001b[0mscore_list\u001b[0m\u001b[0;34m.\u001b[0m\u001b[0mappend\u001b[0m\u001b[0;34m(\u001b[0m\u001b[0mnew_score\u001b[0m\u001b[0;34m)\u001b[0m\u001b[0;34m\u001b[0m\u001b[0;34m\u001b[0m\u001b[0m\n",
      "\u001b[0;31mKeyboardInterrupt\u001b[0m: "
     ]
    }
   ],
   "source": [
    "file_name_list, margin_scores = score_agg(margin)"
   ]
  },
  {
   "cell_type": "code",
   "execution_count": null,
   "metadata": {},
   "outputs": [],
   "source": [
    "file_name_list, perturb_scores = score_agg(perturb)"
   ]
  },
  {
   "cell_type": "markdown",
   "metadata": {},
   "source": [
    "## Select"
   ]
  },
  {
   "cell_type": "code",
   "execution_count": 59,
   "metadata": {},
   "outputs": [
    {
     "data": {
      "text/plain": [
       "49030"
      ]
     },
     "execution_count": 59,
     "metadata": {},
     "output_type": "execute_result"
    }
   ],
   "source": [
    "len(entropy_scores)"
   ]
  },
  {
   "cell_type": "code",
   "execution_count": 72,
   "metadata": {},
   "outputs": [],
   "source": [
    "## some images may not have predictions, simply ignore\n",
    "existance = list(map(lambda x: x in file_name_list, feature_files))\n",
    "\n",
    "## images without any predicted box\n",
    "mask = np.ones((len(feature_files),), bool)\n",
    "mask[np.where(np.asarray(existance) == False)[0]] = False # mask of shape (n,)\n",
    "\n",
    "## remove from feature embedddings\n",
    "feature_emb_select = feature_embeddings[mask,:]"
   ]
  },
  {
   "cell_type": "code",
   "execution_count": 91,
   "metadata": {},
   "outputs": [],
   "source": [
    "assert len(feature_emb_select) == len(entropy_scores)"
   ]
  },
  {
   "cell_type": "code",
   "execution_count": null,
   "metadata": {},
   "outputs": [
    {
     "name": "stdout",
     "output_type": "stream",
     "text": [
      "100\n",
      "200\n",
      "300\n",
      "400\n",
      "500\n",
      "600\n",
      "700\n",
      "800\n",
      "900\n",
      "1000\n",
      "1100\n",
      "1200\n",
      "1300\n",
      "1400\n"
     ]
    }
   ],
   "source": [
    "c_sets = core_set(S=entropy_scores, feat=feature_emb_select, N=5000)\n",
    "np.save('./detector_results/entropy_select5000_coreset.npy', c_sets)"
   ]
  },
  {
   "cell_type": "code",
   "execution_count": null,
   "metadata": {},
   "outputs": [],
   "source": [
    "c_sets = kmeans_plus(S=entropy_scores, feat=feature_emb_select, N=5000)\n",
    "np.save('./detector_results/entropy_select5000_kmeans++.npy', c_sets)"
   ]
  },
  {
   "cell_type": "code",
   "execution_count": null,
   "metadata": {},
   "outputs": [],
   "source": [
    "c_sets = core_set(S=margin_scores, feat=feature_emb_select, N=5000)\n",
    "np.save('./detector_results/margin_select5000_coreset.npy', c_sets)"
   ]
  },
  {
   "cell_type": "code",
   "execution_count": null,
   "metadata": {},
   "outputs": [],
   "source": [
    "c_sets = kmeans_plus(S=margin_scores, feat=feature_emb_select, N=5000)\n",
    "np.save('./detector_results/margin_select5000_kmeans++.npy', c_sets)"
   ]
  },
  {
   "cell_type": "code",
   "execution_count": null,
   "metadata": {},
   "outputs": [],
   "source": [
    "c_sets = core_set(S=perturb_scores, feat=feature_emb_select, N=5000)\n",
    "np.save('./detector_results/perturb_select5000_coreset.npy', c_sets)"
   ]
  },
  {
   "cell_type": "code",
   "execution_count": null,
   "metadata": {},
   "outputs": [],
   "source": [
    "c_sets = kmeans_plus(S=perturb_scores, feat=feature_emb_select, N=5000)\n",
    "np.save('./detector_results/perturb_select5000_kmeans++.npy', c_sets)"
   ]
  }
 ],
 "metadata": {
  "kernelspec": {
   "display_name": "Python 3",
   "language": "python",
   "name": "python3"
  },
  "language_info": {
   "codemirror_mode": {
    "name": "ipython",
    "version": 3
   },
   "file_extension": ".py",
   "mimetype": "text/x-python",
   "name": "python",
   "nbconvert_exporter": "python",
   "pygments_lexer": "ipython3",
   "version": "3.7.7"
  }
 },
 "nbformat": 4,
 "nbformat_minor": 4
}
