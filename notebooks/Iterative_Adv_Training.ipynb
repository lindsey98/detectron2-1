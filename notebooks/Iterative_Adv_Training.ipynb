{
 "cells": [
  {
   "cell_type": "markdown",
   "metadata": {},
   "source": [
    "## Iterative Adv Training"
   ]
  },
  {
   "cell_type": "markdown",
   "metadata": {},
   "source": [
    "### For iter in Range(20):\n",
    "-       Step 1: Generate training adv examples using weights from last epoch to 1) overwrite shot_adv.png 2) create coco_perturb_train.json\n",
    "-       Step 2: Generate testing adv examples using weights from last epoch 1) overwrite shot_adv.png 2) create coco_perturb_test.json\n",
    "-       Step 3: Mix downsampled normal training data(D0) with perturbed training data(Di) (4:1) and create coco_adv_mix.json\n",
    "-       Step 4: Evaluate training Acc on all D0+Di examples (9 metrics)\n",
    "-       Step 5: Evaluate testing Acc on clean testing \n",
    "-       Step 6: Evaluate testing Acc on perturbed testing (perturbed with weights from last epoch)"
   ]
  },
  {
   "cell_type": "code",
   "execution_count": 1,
   "metadata": {},
   "outputs": [],
   "source": [
    "from pycocotools.coco import COCO\n",
    "from pycocotools.cocoeval import COCOeval\n",
    "import pickle"
   ]
  },
  {
   "cell_type": "code",
   "execution_count": 2,
   "metadata": {},
   "outputs": [],
   "source": [
    "import os\n",
    "os.chdir('..')"
   ]
  },
  {
   "cell_type": "code",
   "execution_count": 3,
   "metadata": {
    "scrolled": true
   },
   "outputs": [
    {
     "name": "stdout",
     "output_type": "stream",
     "text": [
      "/home/l/liny/yizhe/code/detectron2-1\r\n"
     ]
    }
   ],
   "source": [
    "!pwd"
   ]
  },
  {
   "cell_type": "code",
   "execution_count": 4,
   "metadata": {},
   "outputs": [],
   "source": [
    "def evaluate_res(gt_coco_path, results_coco_path, output_this_epoch, name):\n",
    "    coco_gt = COCO(gt_coco_path)\n",
    "    coco_dt = coco_gt.loadRes(results_coco_path)\n",
    "    \n",
    "    coco_eval = COCOeval(coco_gt, coco_dt, 'bbox')\n",
    "    with open(output_this_epoch + '/all_%sacc.pkl'%name, 'wb') as f:\n",
    "        pickle.dump(coco_eval, f)\n",
    "    \n",
    "    coco_eval = COCOeval(coco_gt, coco_dt, 'bbox')\n",
    "    coco_eval.params.catIds = [1]\n",
    "    with open(output_this_epoch + '/input_%sacc.pkl'%name, 'wb') as f:\n",
    "        pickle.dump(coco_eval, f)\n",
    "        \n",
    "    coco_eval = COCOeval(coco_gt, coco_dt, 'bbox')\n",
    "    coco_eval.params.catIds = [2]\n",
    "    with open(output_this_epoch + '/logo_%sacc.pkl'%name, 'wb') as f:\n",
    "        pickle.dump(coco_eval, f)\n",
    "        "
   ]
  },
  {
   "cell_type": "code",
   "execution_count": null,
   "metadata": {
    "scrolled": true
   },
   "outputs": [],
   "source": [
    "\n",
    "for i in range(1, 20):\n",
    "    if i == 0:\n",
    "        weight_last_epoch = 'output/rcnn_bet365/model_final.pth'\n",
    "    else:\n",
    "        weight_last_epoch = 'output/adv_%s/model_final.pth'%(str(i - 1))\n",
    "    output_this_epoch = 'output/adv_%s'%(str(i))\n",
    "    weight_this_epoch = output_this_epoch + '/model_final.pth'\n",
    "    \n",
    "    if not (os.path.exists(weight_last_epoch)):\n",
    "        print('Weight for last epoch does not exist!')\n",
    "        \n",
    "    os.makedirs(output_this_epoch, exist_ok=True)\n",
    "        \n",
    "    '''generate training, testing adv examples'''\n",
    "    !python run_DAG.py --test False --cfg-path configs/faster_rcnn_bet365.yaml \\\n",
    "                                               --weights-path {weight_last_epoch} \\\n",
    "                                               --results-save-path coco_instances_ignore_train.json \n",
    "\n",
    "    !python run_DAG.py --test True --cfg-path configs/faster_rcnn_bet365.yaml \\\n",
    "                                              --weights-path {weight_last_epoch} \\\n",
    "                                              --results-save-path coco_instances_ignore_test.json \n",
    "        \n",
    "    #mix normal with training\n",
    "    !python detectron2_1/mix_normal_adv.py --normal-path data/benign_data/coco_train.json \\\n",
    "                                           --adv-path data/benign_data/coco_perturbgt_train.json \\\n",
    "                                           --save-path data/benign_data/coco_adv_mix.json \n",
    "\n",
    "    #retrain \n",
    "    !python train_net.py --config-file configs/faster_rcnn_adv.yaml \\\n",
    "                                       OUTPUT_DIR {output_this_epoch} \\\n",
    "                                       MODEL.WEIGHTS {weight_last_epoch} \n",
    "    \n",
    "    ######################## evaluate on training D0 + Di ################################################ \n",
    "    !python train_net.py --eval-only --config-file configs/faster_rcnn_adv_eval_train.yaml \\\n",
    "                                                   MODEL.WEIGHTS {weight_this_epoch} \\\n",
    "                                                   OUTPUT_DIR {output_this_epoch} # Path to trained checkpoint\n",
    "    \n",
    "    gt_coco_path = 'data/benign_data/coco_adv_mix.json' # here the ground-truth is for the original-sized image\n",
    "    results_coco_path =  output_this_epoch + '/coco_instances_results.json' # here the prediction is for the resized image\n",
    "    evaluate_res(gt_coco_path, results_coco_path, output_this_epoch, 'train')\n",
    "        \n",
    "    #########################  evaluate on clean testing ################################################ \n",
    "    !python train_net.py --eval-only --config-file configs/faster_rcnn_adv.yaml \\\n",
    "                                     MODEL.WEIGHTS {weight_this_epoch} \\\n",
    "                                     OUTPUT_DIR {output_this_epoch} # Path to trained checkpoint\n",
    "    \n",
    "    gt_coco_path = 'data/benign_data/coco_test.json' \n",
    "    results_coco_path =  output_this_epoch + '/coco_instances_results.json' \n",
    "    evaluate_res(gt_coco_path, results_coco_path, output_this_epoch, 'test')\n",
    "\n",
    "        \n",
    "    #########################  evaluate on perturbed testing ################################################ \n",
    "    !python train_net.py --eval-only --config-file configs/faster_rcnn_adv_eval_test.yaml \\\n",
    "                                     MODEL.WEIGHTS {weight_this_epoch} \\\n",
    "                                     OUTPUT_DIR {output_this_epoch} # Path to trained checkpoint\n",
    "    \n",
    "    gt_coco_path = 'data/benign_data/coco_perturbgt_test.json' \n",
    "    results_coco_path =  output_this_epoch + '/coco_instances_results.json' \n",
    "    evaluate_res(gt_coco_path, results_coco_path, output_this_epoch, 'perturb_test')\n",
    "\n"
   ]
  },
  {
   "cell_type": "code",
   "execution_count": null,
   "metadata": {},
   "outputs": [],
   "source": [
    "with open('./output/adv_1/logo_testacc.pkl', 'rb') as f:\n",
    "    logo_testacc = pickle.load(f)\n",
    "    \n",
    "with open('./output/adv_1/input_testacc.pkl', 'rb') as f:\n",
    "    input_testacc = pickle.load(f)\n",
    "    \n",
    "with open('./output/adv_1/all_testacc.pkl', 'rb') as f:\n",
    "    all_testacc = pickle.load(f)"
   ]
  },
  {
   "cell_type": "code",
   "execution_count": null,
   "metadata": {},
   "outputs": [],
   "source": [
    "with open('./output/adv_1/logo_trainacc.pkl', 'rb') as f:\n",
    "    logo_trainacc = pickle.load(f)\n",
    "    \n",
    "with open('./output/adv_1/input_trainacc.pkl', 'rb') as f:\n",
    "    input_trainacc = pickle.load(f)\n",
    "    \n",
    "with open('./output/adv_1/all_trainacc.pkl', 'rb') as f:\n",
    "    all_trainacc = pickle.load(f)"
   ]
  },
  {
   "cell_type": "code",
   "execution_count": null,
   "metadata": {},
   "outputs": [],
   "source": [
    "logo_testacc.evaluate()\n",
    "logo_testacc.accumulate()\n",
    "logo_testacc.summarize()"
   ]
  },
  {
   "cell_type": "code",
   "execution_count": null,
   "metadata": {},
   "outputs": [],
   "source": []
  },
  {
   "cell_type": "code",
   "execution_count": null,
   "metadata": {},
   "outputs": [],
   "source": []
  }
 ],
 "metadata": {
  "kernelspec": {
   "display_name": "Python [conda env:mypy37]",
   "language": "python",
   "name": "conda-env-mypy37-py"
  },
  "language_info": {
   "codemirror_mode": {
    "name": "ipython",
    "version": 3
   },
   "file_extension": ".py",
   "mimetype": "text/x-python",
   "name": "python",
   "nbconvert_exporter": "python",
   "pygments_lexer": "ipython3",
   "version": "3.7.7"
  }
 },
 "nbformat": 4,
 "nbformat_minor": 4
}
