{
 "cells": [
  {
   "cell_type": "markdown",
   "metadata": {},
   "source": [
    "## Iterative Adv Training"
   ]
  },
  {
   "cell_type": "markdown",
   "metadata": {},
   "source": [
    "### For iter in Range(20):\n",
    "-       Step 1: Generate training adv examples to 1) overwrite shot_adv.png 2) create coco_perturb_train.json\n",
    "-       Step 2: Mix downsampled normal training data with perturbed training data (4:1) and create coco_adv_mix.json\n",
    "-       Step 3: Evaluate training Acc on all clean+adv examples (9 metrics)\n",
    "-       Step 4: Gerenate testing adv examples .... "
   ]
  },
  {
   "cell_type": "code",
   "execution_count": 1,
   "metadata": {},
   "outputs": [],
   "source": [
    "from pycocotools.coco import COCO\n",
    "from pycocotools.cocoeval import COCOeval\n",
    "import pickle"
   ]
  },
  {
   "cell_type": "code",
   "execution_count": 2,
   "metadata": {},
   "outputs": [],
   "source": [
    "import os\n",
    "os.chdir('..')"
   ]
  },
  {
   "cell_type": "code",
   "execution_count": 3,
   "metadata": {
    "scrolled": true
   },
   "outputs": [
    {
     "name": "stdout",
     "output_type": "stream",
     "text": [
      "/home/l/liny/yizhe/code/detectron2-1\r\n"
     ]
    }
   ],
   "source": [
    "!pwd"
   ]
  },
  {
   "cell_type": "code",
   "execution_count": null,
   "metadata": {
    "scrolled": true
   },
   "outputs": [
    {
     "name": "stdout",
     "output_type": "stream",
     "text": [
      "Done with attack. Total Iterations 149\n",
      "464it [1:25:48, 11.07s/it][464/1579] Attacking data/benign_data/benign_database/buxone.ru/shot.png ...\n",
      "Done with attack. Total Iterations 149\n",
      "465it [1:25:58, 10.96s/it][465/1579] Attacking data/benign_data/benign_database/adam4adam.tv/shot.png ...\n",
      "Done with attack. Total Iterations 149\n",
      "466it [1:26:10, 11.02s/it][466/1579] Attacking data/benign_data/benign_database/studentenwerk-dresden.de/shot.png ...\n",
      "Done with attack. Total Iterations 149\n",
      "467it [1:26:23, 11.67s/it][467/1579] Attacking data/benign_data/benign_database/ru.is/shot.png ...\n",
      "Done with attack. Total Iterations 149\n",
      "468it [1:26:35, 11.91s/it][468/1579] Attacking data/benign_data/benign_database/handtec.co.uk/shot.png ...\n",
      "Done with attack. Total Iterations 149\n",
      "469it [1:26:47, 11.92s/it][469/1579] Attacking data/benign_data/benign_database/wize.life/shot.png ...\n",
      "Done with attack. Total Iterations 149\n",
      "470it [1:26:59, 11.93s/it][470/1579] Attacking data/benign_data/benign_database/floorplanner.com/shot.png ...\n",
      "Done with attack. Total Iterations 149\n",
      "471it [1:27:11, 12.03s/it][471/1579] Attacking data/benign_data/benign_database/earmaster.com/shot.png ...\n",
      "Done with attack. Total Iterations 149\n",
      "472it [1:27:23, 11.96s/it][472/1579] Attacking data/benign_data/benign_database/zvpn.me/shot.png ...\n",
      "Done with attack. Total Iterations 149\n",
      "473it [1:27:36, 12.06s/it][473/1579] Attacking data/benign_data/benign_database/fliegende-pillen.de/shot.png ...\n",
      "Done with attack. Total Iterations 149\n",
      "474it [1:27:46, 11.69s/it][474/1579] Attacking data/benign_data/benign_database/evenium.net/shot.png ...\n",
      "Done with attack. Total Iterations 149\n",
      "475it [1:27:58, 11.58s/it][475/1579] Attacking data/benign_data/benign_database/6-ar.com/shot.png ...\n",
      "Done with attack. Total Iterations 149\n",
      "476it [1:28:10, 11.89s/it][476/1579] Attacking data/benign_data/benign_database/nupayments.co.za/shot.png ...\n",
      "Done with attack. Total Iterations 149\n",
      "477it [1:28:23, 12.07s/it][477/1579] Attacking data/benign_data/benign_database/fishki.ua/shot.png ...\n",
      "Done with attack. Total Iterations 149\n",
      "478it [1:28:35, 12.24s/it][478/1579] Attacking data/benign_data/benign_database/kurdistantv.net/shot.png ...\n",
      "Done with attack. Total Iterations 149\n",
      "479it [1:28:47, 11.93s/it][479/1579] Attacking data/benign_data/benign_database/whatnowatlanta.com/shot.png ...\n",
      "Done with attack. Total Iterations 149\n",
      "480it [1:28:57, 11.48s/it][480/1579] Attacking data/benign_data/benign_database/aotax.com/shot.png ...\n",
      "Done with attack. Total Iterations 149\n",
      "481it [1:29:07, 11.08s/it][481/1579] Attacking data/benign_data/benign_database/roccat.org/shot.png ...\n",
      "Done with attack. Total Iterations 149\n",
      "482it [1:29:20, 11.46s/it][482/1579] Attacking data/benign_data/benign_database/artforum.com/shot.png ...\n",
      "Done with attack. Total Iterations 149\n",
      "483it [1:29:31, 11.57s/it][483/1579] Attacking data/benign_data/benign_database/punjabishaadi.com/shot.png ...\n",
      "Done with attack. Total Iterations 149\n",
      "484it [1:29:44, 11.81s/it][484/1579] Attacking data/benign_data/benign_database/patreasury.gov/shot.png ...\n",
      "Done with attack. Total Iterations 149\n",
      "485it [1:29:56, 11.81s/it][485/1579] Attacking data/benign_data/benign_database/pinclipart.com/shot.png ...\n",
      "Done with attack. Total Iterations 149\n",
      "486it [1:30:04, 10.76s/it][486/1579] Attacking data/benign_data/benign_database/mobi-money.ru/shot.png ...\n",
      "Done with attack. Total Iterations 149\n",
      "487it [1:30:16, 11.19s/it][487/1579] Attacking data/benign_data/benign_database/torobche.com/shot.png ...\n",
      "Done with attack. Total Iterations 149\n",
      "488it [1:30:29, 11.57s/it][488/1579] Attacking data/benign_data/benign_database/ooma.org/shot.png ...\n",
      "Done with attack. Total Iterations 149\n",
      "489it [1:30:37, 10.77s/it][489/1579] Attacking data/benign_data/benign_database/trudvsem.ru/shot.png ...\n",
      "Done with attack. Total Iterations 149\n",
      "490it [1:30:47, 10.36s/it][490/1579] Attacking data/benign_data/benign_database/liluka-site.eu/shot.png ...\n",
      "Done with attack. Total Iterations 149\n",
      "491it [1:30:59, 11.02s/it][491/1579] Attacking data/benign_data/benign_database/anewmode.com/shot.png ...\n",
      "Done with attack. Total Iterations 149\n",
      "492it [1:31:06,  9.79s/it][492/1579] Attacking data/benign_data/benign_database/advancementcourses.com/shot.png ...\n",
      "Done with attack. Total Iterations 149\n",
      "493it [1:31:17,  9.90s/it][493/1579] Attacking data/benign_data/benign_database/telugumatrimony.com/shot.png ...\n",
      "Done with attack. Total Iterations 149\n",
      "494it [1:31:25,  9.57s/it][494/1579] Attacking data/benign_data/benign_database/appliancesconnection.com/shot.png ...\n",
      "Done with attack. Total Iterations 149\n",
      "495it [1:31:38, 10.51s/it][495/1579] Attacking data/benign_data/benign_database/winekee.com/shot.png ...\n",
      "Done with attack. Total Iterations 149\n",
      "496it [1:31:50, 11.08s/it][496/1579] Attacking data/benign_data/benign_database/go2marine.com/shot.png ...\n",
      "Done with attack. Total Iterations 149\n",
      "497it [1:32:03, 11.40s/it][497/1579] Attacking data/benign_data/benign_database/seedandspark.com/shot.png ...\n",
      "Done with attack. Total Iterations 149\n",
      "498it [1:32:15, 11.75s/it][498/1579] Attacking data/benign_data/benign_database/way2wealth.com/shot.png ...\n",
      "Done with attack. Total Iterations 149\n",
      "499it [1:32:27, 11.86s/it][499/1579] Attacking data/benign_data/benign_database/rpgmakercentral.com/shot.png ...\n",
      "Done with attack. Total Iterations 149\n",
      "500it [1:32:40, 12.25s/it][500/1579] Attacking data/benign_data/benign_database/handy.com/shot.png ...\n",
      "Done with attack. Total Iterations 149\n",
      "501it [1:32:51, 11.79s/it][501/1579] Attacking data/benign_data/benign_database/rac.co.uk/shot.png ...\n",
      "Done with attack. Total Iterations 149\n",
      "502it [1:33:04, 12.14s/it][502/1579] Attacking data/benign_data/benign_database/goarmyed.com/shot.png ...\n",
      "Done with attack. Total Iterations 149\n",
      "503it [1:33:14, 11.57s/it][503/1579] Attacking data/benign_data/benign_database/missionimprintables.com/shot.png ...\n",
      "Done with attack. Total Iterations 149\n",
      "504it [1:33:27, 11.85s/it][504/1579] Attacking data/benign_data/benign_database/whois.com.au/shot.png ...\n",
      "Done with attack. Total Iterations 149\n",
      "505it [1:33:39, 12.03s/it][505/1579] Attacking data/benign_data/benign_database/curriculumassociates.com/shot.png ...\n",
      "Done with attack. Total Iterations 149\n",
      "506it [1:33:48, 11.00s/it][506/1579] Attacking data/benign_data/benign_database/cagreatamerica.com/shot.png ...\n",
      "Done with attack. Total Iterations 149\n",
      "507it [1:34:01, 11.59s/it][507/1579] Attacking data/benign_data/benign_database/marioncountyfl.org/shot.png ...\n",
      "Done with attack. Total Iterations 149\n",
      "508it [1:34:14, 12.13s/it][508/1579] Attacking data/benign_data/benign_database/nnn.co.jp/shot.png ...\n",
      "Done with attack. Total Iterations 149\n",
      "509it [1:34:27, 12.32s/it][509/1579] Attacking data/benign_data/benign_database/indexventures.com/shot.png ...\n",
      "Done with attack. Total Iterations 149\n",
      "510it [1:34:38, 11.84s/it][510/1579] Attacking data/benign_data/benign_database/storagereview.com/shot.png ...\n",
      "Done with attack. Total Iterations 149\n",
      "511it [1:34:48, 11.52s/it][511/1579] Attacking data/benign_data/benign_database/academyfx.ru/shot.png ...\n",
      "Done with attack. Total Iterations 149\n",
      "512it [1:35:00, 11.60s/it][512/1579] Attacking data/benign_data/benign_database/camping-adriatic.com/shot.png ...\n",
      "Done with attack. Total Iterations 149\n",
      "513it [1:35:13, 11.95s/it][513/1579] Attacking data/benign_data/benign_database/tandyleather.com/shot.png ...\n",
      "Done with attack. Total Iterations 149\n",
      "514it [1:35:23, 11.38s/it][514/1579] Attacking data/benign_data/benign_database/elf.com.tw/shot.png ...\n",
      "Done with attack. Total Iterations 149\n",
      "515it [1:35:32, 10.77s/it][515/1579] Attacking data/benign_data/benign_database/barbora.lt/shot.png ...\n",
      "Done with attack. Total Iterations 149\n",
      "516it [1:35:41, 10.13s/it][516/1579] Attacking data/benign_data/benign_database/spanishdict.com/shot.png ...\n",
      "Done with attack. Total Iterations 149\n",
      "517it [1:35:53, 10.77s/it][517/1579] Attacking data/benign_data/benign_database/chilecracking.es/shot.png ...\n",
      "Done with attack. Total Iterations 149\n",
      "518it [1:36:06, 11.34s/it][518/1579] Attacking data/benign_data/benign_database/focus123.cn/shot.png ...\n"
     ]
    }
   ],
   "source": [
    "\n",
    "for i in range(20):\n",
    "    if i == 0:\n",
    "        weight_last_epoch = 'output/rcnn_bet365/model_final.pth'\n",
    "    else:\n",
    "        weight_last_epoch = 'output/adv_%s/model_final.pth'%(str(i - 1))\n",
    "    output_this_epoch = 'output/adv_%s'%(str(i))\n",
    "    weight_this_epoch = output_this_epoch + '/model_final.pth'\n",
    "    \n",
    "    '''generate training, testing adv examples'''\n",
    "    !python run_DAG.py --test False --cfg-path configs/faster_rcnn_bet365.yaml \\\n",
    "                                               --weights-path {weight_last_epoch} \\\n",
    "                                               --results-save-path coco_instances_ignore_train.json \n",
    "\n",
    "    !python run_DAG.py --test True --cfg-path configs/faster_rcnn_bet365.yaml \\\n",
    "                                              --weights-path {weight_last_epoch} \\\n",
    "                                              --results-save-path coco_instances_ignore_test.json \n",
    "        \n",
    "    #mix normal with training\n",
    "    !python detectron2_1/mix_normal_adv.py --normal-path data/benign_data/coco_train.json \\\n",
    "                                           --adv-path data/benign_data/coco_perturbgt_train.json \\\n",
    "                                           --save-path data/benign_data/coco_adv_mix.json \n",
    "\n",
    "    #retrain \n",
    "    !python train_net.py --config-file configs/faster_rcnn_adv.yaml \\\n",
    "                                       OUTPUT_DIR {output_this_epoch} \\\n",
    "                                       MODEL.WEIGHTS {weight_last_epoch} \\\n",
    "    \n",
    "    # evaluate training acc\n",
    "    !python train_net.py --eval-only --config-file configs/faster_rcnn_adv_eval_train.yaml \\\n",
    "                                                   MODEL.WEIGHTS {weight_this_epoch} \\\n",
    "                                                   OUTPUT_DIR {output_this_epoch} # Path to trained checkpoint\n",
    "    \n",
    "    gt_coco_path = 'data/benign_data/coco_adv_mix.json' # here the ground-truth is for the original-sized image\n",
    "    results_coco_path =  output_this_epoch + '/coco_instances_results.json' # here the prediction is for the resized image\n",
    "    coco_gt = COCO(gt_coco_path)\n",
    "    coco_dt = coco_gt.loadRes(results_coco_path)\n",
    "    \n",
    "    coco_eval = COCOeval(coco_gt, coco_dt, 'bbox')\n",
    "    with open(output_this_epoch + '/all_trainacc.pkl', 'wb') as f:\n",
    "        pickle.dump(coco_eval, f)\n",
    "    \n",
    "    coco_eval = COCOeval(coco_gt, coco_dt, 'bbox')\n",
    "    coco_eval.params.catIds = [1]\n",
    "    with open(output_this_epoch + '/input_trainacc.pkl', 'wb') as f:\n",
    "        pickle.dump(coco_eval, f)\n",
    "        \n",
    "    coco_eval = COCOeval(coco_gt, coco_dt, 'bbox')\n",
    "    coco_eval.params.catIds = [2]\n",
    "    with open(output_this_epoch + '/logo_trainacc.pkl', 'wb') as f:\n",
    "        pickle.dump(coco_eval, f)\n",
    "        \n",
    "    # evaluate testing acc\n",
    "    !python train_net.py --eval-only --config-file configs/faster_rcnn_adv_eval_test.yaml \\\n",
    "                                     MODEL.WEIGHTS {weight_this_epoch} \\\n",
    "                                     OUTPUT_DIR {output_this_epoch} # Path to trained checkpoint\n",
    "    \n",
    "    gt_coco_path = 'data/benign_data/coco_perturbgt_test.json' \n",
    "    results_coco_path =  output_this_epoch + '/coco_instances_results.json' \n",
    "    coco_gt = COCO(gt_coco_path)\n",
    "    coco_dt = coco_gt.loadRes(results_coco_path)\n",
    "    \n",
    "    coco_eval = COCOeval(coco_gt, coco_dt, 'bbox')\n",
    "    with open(output_this_epoch + '/all_testacc.pkl', 'wb') as f:\n",
    "        pickle.dump(coco_eval, f)\n",
    "    \n",
    "    coco_eval = COCOeval(coco_gt, coco_dt, 'bbox')\n",
    "    coco_eval.params.catIds = [1]\n",
    "    with open(output_this_epoch + '/input_testacc.pkl', 'wb') as f:\n",
    "        pickle.dump(coco_eval, f)\n",
    "    \n",
    "    coco_eval = COCOeval(coco_gt, coco_dt, 'bbox')\n",
    "    coco_eval.params.catIds = [2]\n",
    "    with open(output_this_epoch + '/logo_testacc.pkl', 'wb') as f:\n",
    "        pickle.dump(coco_eval, f)\n",
    "    \n",
    "        "
   ]
  },
  {
   "cell_type": "code",
   "execution_count": null,
   "metadata": {},
   "outputs": [],
   "source": [
    "with open('./output/adv_1/logo_testacc.pkl', 'rb') as f:\n",
    "    logo_testacc = pickle.load(f)\n",
    "    \n",
    "with open('./output/adv_1/input_testacc.pkl', 'rb') as f:\n",
    "    input_testacc = pickle.load(f)\n",
    "    \n",
    "with open('./output/adv_1/all_testacc.pkl', 'rb') as f:\n",
    "    all_testacc = pickle.load(f)"
   ]
  },
  {
   "cell_type": "code",
   "execution_count": null,
   "metadata": {},
   "outputs": [],
   "source": [
    "with open('./output/adv_1/logo_trainacc.pkl', 'rb') as f:\n",
    "    logo_trainacc = pickle.load(f)\n",
    "    \n",
    "with open('./output/adv_1/input_trainacc.pkl', 'rb') as f:\n",
    "    input_trainacc = pickle.load(f)\n",
    "    \n",
    "with open('./output/adv_1/all_trainacc.pkl', 'rb') as f:\n",
    "    all_trainacc = pickle.load(f)"
   ]
  },
  {
   "cell_type": "code",
   "execution_count": null,
   "metadata": {},
   "outputs": [],
   "source": [
    "logo_testacc.evaluate()\n",
    "logo_testacc.accumulate()\n",
    "logo_testacc.summarize()"
   ]
  },
  {
   "cell_type": "code",
   "execution_count": null,
   "metadata": {},
   "outputs": [],
   "source": []
  },
  {
   "cell_type": "code",
   "execution_count": null,
   "metadata": {},
   "outputs": [],
   "source": []
  }
 ],
 "metadata": {
  "kernelspec": {
   "display_name": "Python [conda env:mypy37]",
   "language": "python",
   "name": "conda-env-mypy37-py"
  },
  "language_info": {
   "codemirror_mode": {
    "name": "ipython",
    "version": 3
   },
   "file_extension": ".py",
   "mimetype": "text/x-python",
   "name": "python",
   "nbconvert_exporter": "python",
   "pygments_lexer": "ipython3",
   "version": "3.7.7"
  }
 },
 "nbformat": 4,
 "nbformat_minor": 4
}
