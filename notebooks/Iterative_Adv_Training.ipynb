{
 "cells": [
  {
   "cell_type": "markdown",
   "metadata": {},
   "source": [
    "## Iterative Adv Training"
   ]
  },
  {
   "cell_type": "markdown",
   "metadata": {},
   "source": [
    "### For iter in Range(20):\n",
    "-       Step 1: Generate training adv examples using weights from last epoch to 1) overwrite shot_adv.png 2) create coco_perturb_train.json\n",
    "-       Step 2: Generate testing adv examples using weights from last epoch 1) overwrite shot_adv.png 2) create coco_perturb_test.json\n",
    "-       Step 3: Mix downsampled normal training data(D0) with perturbed training data(Di) (4:1) and create coco_adv_mix.json\n",
    "-       Step 4: Evaluate training Acc on all D0+Di examples (9 metrics)\n",
    "-       Step 5: Evaluate testing Acc on clean testing \n",
    "-       Step 6: Evaluate testing Acc on perturbed testing (perturbed with weights from last epoch)"
   ]
  },
  {
   "cell_type": "code",
   "execution_count": 1,
   "metadata": {},
   "outputs": [],
   "source": [
    "from pycocotools.coco import COCO\n",
    "from pycocotools.cocoeval import COCOeval\n",
    "import pickle"
   ]
  },
  {
   "cell_type": "code",
   "execution_count": 2,
   "metadata": {},
   "outputs": [],
   "source": [
    "import os\n",
    "os.chdir('..')"
   ]
  },
  {
   "cell_type": "code",
   "execution_count": 3,
   "metadata": {
    "scrolled": true
   },
   "outputs": [
    {
     "name": "stdout",
     "output_type": "stream",
     "text": [
      "/home/l/liny/yizhe/code/detectron2-1\r\n"
     ]
    }
   ],
   "source": [
    "!pwd"
   ]
  },
  {
   "cell_type": "code",
   "execution_count": 5,
   "metadata": {},
   "outputs": [],
   "source": [
    "def evaluate_res(gt_coco_path, results_coco_path, output_this_epoch, name):\n",
    "    coco_gt = COCO(gt_coco_path)\n",
    "    coco_dt = coco_gt.loadRes(results_coco_path)\n",
    "    \n",
    "    coco_eval = COCOeval(coco_gt, coco_dt, 'bbox')\n",
    "    with open(output_this_epoch + '/all_%sacc.pkl'%name, 'wb') as f:\n",
    "        pickle.dump(coco_eval, f)\n",
    "    \n",
    "    coco_eval = COCOeval(coco_gt, coco_dt, 'bbox')\n",
    "    coco_eval.params.catIds = [1]\n",
    "    with open(output_this_epoch + '/input_%sacc.pkl'%name, 'wb') as f:\n",
    "        pickle.dump(coco_eval, f)\n",
    "        \n",
    "    coco_eval = COCOeval(coco_gt, coco_dt, 'bbox')\n",
    "    coco_eval.params.catIds = [2]\n",
    "    with open(output_this_epoch + '/logo_%sacc.pkl'%name, 'wb') as f:\n",
    "        pickle.dump(coco_eval, f)\n",
    "        "
   ]
  },
  {
   "cell_type": "code",
   "execution_count": null,
   "metadata": {
    "scrolled": true
   },
   "outputs": [
    {
     "name": "stdout",
     "output_type": "stream",
     "text": [
      "Preparing config file...\n",
      "Initializing attacker...\n",
      "Start the attack...\n",
      "0it [00:00, ?it/s][0/29073] Attacking data/benign_data/benign_database/fuzer.me/shot.png ...\n",
      "Done with attack. Total Iterations 149\n",
      "1it [00:14, 14.31s/it][1/29073] Attacking data/benign_data/benign_database/ufms.br/shot.png ...\n",
      "Done with attack. Total Iterations 149\n",
      "2it [00:26, 13.57s/it][2/29073] Attacking data/benign_data/benign_database/camsis.ru/shot.png ...\n",
      "Done with attack. Total Iterations 149\n",
      "3it [00:38, 13.18s/it][3/29073] Attacking data/benign_data/benign_database/northcarolina.edu/shot.png ...\n",
      "Done with attack. Total Iterations 149\n",
      "4it [00:50, 12.96s/it][4/29073] Attacking data/benign_data/benign_database/123signup.com/shot.png ...\n",
      "Done with attack. Total Iterations 149\n",
      "5it [01:00, 11.86s/it][5/29073] Attacking data/benign_data/benign_database/stephenwiltshire.co.uk/shot.png ...\n",
      "Done with attack. Total Iterations 149\n",
      "6it [01:11, 11.85s/it][6/29073] Attacking data/benign_data/benign_database/techspot.com/shot.png ...\n",
      "Done with attack. Total Iterations 149\n",
      "7it [01:23, 11.60s/it][7/29073] Attacking data/benign_data/benign_database/testcopy.ru/shot.png ...\n",
      "Done with attack. Total Iterations 149\n",
      "8it [01:37, 12.44s/it][8/29073] Attacking data/benign_data/benign_database/overcomingms.org/shot.png ...\n",
      "Done with attack. Total Iterations 149\n",
      "9it [01:49, 12.26s/it][9/29073] Attacking data/benign_data/benign_database/neat-reader.cn/shot.png ...\n",
      "Done with attack. Total Iterations 149\n",
      "10it [02:03, 12.91s/it][10/29073] Attacking data/benign_data/benign_database/destinypedia.com/shot.png ...\n",
      "Done with attack. Total Iterations 149\n",
      "11it [02:16, 12.81s/it][11/29073] Attacking data/benign_data/benign_database/dsb.dk/shot.png ...\n",
      "Done with attack. Total Iterations 149\n",
      "12it [02:32, 13.85s/it][12/29073] Attacking data/benign_data/benign_database/jaspravim.sk/shot.png ...\n",
      "Done with attack. Total Iterations 149\n",
      "13it [02:41, 12.42s/it][13/29073] Attacking data/benign_data/benign_database/seedbox.fr/shot.png ...\n",
      "Done with attack. Total Iterations 149\n",
      "14it [02:55, 12.78s/it][14/29073] Attacking data/benign_data/benign_database/krutomer.ru/shot.png ...\n",
      "Done with attack. Total Iterations 149\n",
      "15it [03:10, 13.42s/it][15/29073] Attacking data/benign_data/benign_database/bytelang.com/shot.png ...\n",
      "Done with attack. Total Iterations 149\n",
      "16it [03:23, 13.51s/it][16/29073] Attacking data/benign_data/benign_database/bdshop.com/shot.png ...\n",
      "Done with attack. Total Iterations 149\n",
      "17it [03:35, 12.91s/it][17/29073] Attacking data/benign_data/benign_database/planetasport.rs/shot.png ...\n",
      "Done with attack. Total Iterations 149\n",
      "18it [03:45, 12.13s/it][18/29073] Attacking data/benign_data/benign_database/kriminal.net.ua/shot.png ...\n",
      "Done with attack. Total Iterations 149\n",
      "19it [03:57, 12.08s/it][19/29073] Attacking data/benign_data/benign_database/practicepanther.com/shot.png ...\n",
      "Done with attack. Total Iterations 149\n",
      "20it [04:07, 11.40s/it][20/29073] Attacking data/benign_data/benign_database/geelbe.com/shot.png ...\n",
      "Done with attack. Total Iterations 149\n",
      "21it [04:19, 11.52s/it][21/29073] Attacking data/benign_data/benign_database/push-ad.com/shot.png ...\n",
      "Done with attack. Total Iterations 149\n",
      "22it [04:33, 12.28s/it][22/29073] Attacking data/benign_data/benign_database/quoteinvestigator.com/shot.png ...\n",
      "Done with attack. Total Iterations 0\n",
      "23it [04:37,  9.92s/it][23/29073] Attacking data/benign_data/benign_database/ufcgym.com/shot.png ...\n"
     ]
    }
   ],
   "source": [
    "\n",
    "for i in range(20):\n",
    "    if i == 0:\n",
    "        weight_last_epoch = 'output/rcnn_bet365/model_final.pth'\n",
    "    else:\n",
    "        weight_last_epoch = 'output/adv_%s/model_final.pth'%(str(i - 1))\n",
    "    output_this_epoch = 'output/adv_%s'%(str(i))\n",
    "    weight_this_epoch = output_this_epoch + '/model_final.pth'\n",
    "    \n",
    "    if not (os.path.exists(weight_last_epoch)):\n",
    "        print('Weight for last epoch does not exist!')\n",
    "        \n",
    "    os.makedirs(output_this_epoch, exist_ok=True)\n",
    "        \n",
    "    '''generate training, testing adv examples'''\n",
    "    !python run_DAG.py --test False --cfg-path configs/faster_rcnn_bet365.yaml \\\n",
    "                                               --weights-path {weight_last_epoch} \\\n",
    "                                               --results-save-path coco_instances_ignore_train.json \n",
    "\n",
    "    !python run_DAG.py --test True --cfg-path configs/faster_rcnn_bet365.yaml \\\n",
    "                                              --weights-path {weight_last_epoch} \\\n",
    "                                              --results-save-path coco_instances_ignore_test.json \n",
    "        \n",
    "    #mix normal with training\n",
    "    !python detectron2_1/mix_normal_adv.py --normal-path data/benign_data/coco_train.json \\\n",
    "                                           --adv-path data/benign_data/coco_perturbgt_train.json \\\n",
    "                                           --save-path data/benign_data/coco_adv_mix.json \n",
    "\n",
    "    #retrain \n",
    "    !python train_net.py --config-file configs/faster_rcnn_adv.yaml \\\n",
    "                                       OUTPUT_DIR {output_this_epoch} \\\n",
    "                                       MODEL.WEIGHTS {weight_last_epoch} \\\n",
    "    \n",
    "    ######################## evaluate on training D0 + Di ################################################ \n",
    "    !python train_net.py --eval-only --config-file configs/faster_rcnn_adv_eval_train.yaml \\\n",
    "                                                   MODEL.WEIGHTS {weight_this_epoch} \\\n",
    "                                                   OUTPUT_DIR {output_this_epoch} # Path to trained checkpoint\n",
    "    \n",
    "    gt_coco_path = 'data/benign_data/coco_adv_mix.json' # here the ground-truth is for the original-sized image\n",
    "    results_coco_path =  output_this_epoch + '/coco_instances_results.json' # here the prediction is for the resized image\n",
    "    evaluate_res(gt_coco_path, results_coco_path, output_this_epoch, 'train')\n",
    "        \n",
    "    #########################  evaluate on clean testing ################################################ \n",
    "    !python train_net.py --eval-only --config-file configs/faster_rcnn_adv.yaml \\\n",
    "                                     MODEL.WEIGHTS {weight_this_epoch} \\\n",
    "                                     OUTPUT_DIR {output_this_epoch} # Path to trained checkpoint\n",
    "    \n",
    "    gt_coco_path = 'data/benign_data/coco_test.json' \n",
    "    results_coco_path =  output_this_epoch + '/coco_instances_results.json' \n",
    "    evaluate_res(gt_coco_path, results_coco_path, output_this_epoch, 'test')\n",
    "\n",
    "        \n",
    "    #########################  evaluate on perturbed testing ################################################ \n",
    "    !python train_net.py --eval-only --config-file configs/faster_rcnn_adv_eval_test.yaml \\\n",
    "                                     MODEL.WEIGHTS {weight_this_epoch} \\\n",
    "                                     OUTPUT_DIR {output_this_epoch} # Path to trained checkpoint\n",
    "    \n",
    "    gt_coco_path = 'data/benign_data/coco_perturbgt_test.json' \n",
    "    results_coco_path =  output_this_epoch + '/coco_instances_results.json' \n",
    "    evaluate_res(gt_coco_path, results_coco_path, output_this_epoch, 'perturb_test')\n",
    "\n"
   ]
  },
  {
   "cell_type": "code",
   "execution_count": null,
   "metadata": {},
   "outputs": [],
   "source": [
    "with open('./output/adv_1/logo_testacc.pkl', 'rb') as f:\n",
    "    logo_testacc = pickle.load(f)\n",
    "    \n",
    "with open('./output/adv_1/input_testacc.pkl', 'rb') as f:\n",
    "    input_testacc = pickle.load(f)\n",
    "    \n",
    "with open('./output/adv_1/all_testacc.pkl', 'rb') as f:\n",
    "    all_testacc = pickle.load(f)"
   ]
  },
  {
   "cell_type": "code",
   "execution_count": null,
   "metadata": {},
   "outputs": [],
   "source": [
    "with open('./output/adv_1/logo_trainacc.pkl', 'rb') as f:\n",
    "    logo_trainacc = pickle.load(f)\n",
    "    \n",
    "with open('./output/adv_1/input_trainacc.pkl', 'rb') as f:\n",
    "    input_trainacc = pickle.load(f)\n",
    "    \n",
    "with open('./output/adv_1/all_trainacc.pkl', 'rb') as f:\n",
    "    all_trainacc = pickle.load(f)"
   ]
  },
  {
   "cell_type": "code",
   "execution_count": null,
   "metadata": {},
   "outputs": [],
   "source": [
    "logo_testacc.evaluate()\n",
    "logo_testacc.accumulate()\n",
    "logo_testacc.summarize()"
   ]
  },
  {
   "cell_type": "code",
   "execution_count": null,
   "metadata": {},
   "outputs": [],
   "source": []
  },
  {
   "cell_type": "code",
   "execution_count": null,
   "metadata": {},
   "outputs": [],
   "source": []
  }
 ],
 "metadata": {
  "kernelspec": {
   "display_name": "Python [conda env:mypy37]",
   "language": "python",
   "name": "conda-env-mypy37-py"
  },
  "language_info": {
   "codemirror_mode": {
    "name": "ipython",
    "version": 3
   },
   "file_extension": ".py",
   "mimetype": "text/x-python",
   "name": "python",
   "nbconvert_exporter": "python",
   "pygments_lexer": "ipython3",
   "version": "3.7.7"
  }
 },
 "nbformat": 4,
 "nbformat_minor": 4
}
