{
 "cells": [
  {
   "cell_type": "markdown",
   "metadata": {},
   "source": [
    "# Overall pipeline\n",
    "1. Website element detection\n",
    "2. Credential classifier\n",
    "3. Phishpedia logo identification\n",
    "4. Layout matching model"
   ]
  },
  {
   "cell_type": "markdown",
   "metadata": {},
   "source": [
    "<img src=\"../example.png\" style=\"width:2000px;height:350px\"/>"
   ]
  },
  {
   "cell_type": "code",
   "execution_count": 1,
   "metadata": {},
   "outputs": [],
   "source": [
    "import os\n",
    "os.chdir('..')\n",
    "os.environ[\"CUDA_VISIBLE_DEVICES\"]=\"0,1\" # use all devices"
   ]
  },
  {
   "cell_type": "code",
   "execution_count": 2,
   "metadata": {},
   "outputs": [],
   "source": [
    "from detectron2_1.datasets import WebMapper\n",
    "from tqdm import tqdm\n",
    "import cv2\n",
    "import matplotlib.pyplot as plt\n",
    "import funcy\n",
    "from IPython.display import clear_output\n",
    "from detectron2.utils.visualizer import Visualizer\n",
    "from detectron2.engine import DefaultPredictor\n",
    "from detectron2.config import get_cfg\n",
    "from pycocotools import cocoeval, coco\n",
    "from detectron2.data import build_detection_test_loader, MetadataCatalog, DatasetCatalog\n",
    "import numpy as np\n",
    "import tldextract\n",
    "import pickle\n",
    "import torch\n",
    "import torch.nn.functional as F\n",
    "import time\n",
    "from collections import OrderedDict"
   ]
  },
  {
   "cell_type": "code",
   "execution_count": 3,
   "metadata": {},
   "outputs": [],
   "source": [
    "from credential_classifier.bit_pytorch.models import FCMaxPool\n",
    "from credential_classifier.bit_pytorch.grid_divider import read_img_reverse"
   ]
  },
  {
   "cell_type": "code",
   "execution_count": 4,
   "metadata": {},
   "outputs": [],
   "source": [
    "from phishpedia.models import KNOWN_MODELS\n",
    "from phishpedia.utils import brand_converter\n",
    "from phishpedia.inference import siamese_inference, pred_siamese, siamese_inference_debug\n",
    "from phishpedia.utils import brand_converter"
   ]
  },
  {
   "cell_type": "code",
   "execution_count": 5,
   "metadata": {},
   "outputs": [],
   "source": [
    "from layout_matcher.layout_matcher_knn import bipartite_web\n",
    "from layout_matcher.misc import load_yaml\n",
    "from layout_matcher.heuristic import layout_heuristic"
   ]
  },
  {
   "cell_type": "code",
   "execution_count": 6,
   "metadata": {},
   "outputs": [],
   "source": [
    "from tqdm import tqdm"
   ]
  },
  {
   "cell_type": "code",
   "execution_count": 7,
   "metadata": {},
   "outputs": [],
   "source": [
    "from layout import *\n",
    "from siamese import *\n",
    "from element_detector import *\n",
    "from credential import *"
   ]
  },
  {
   "cell_type": "markdown",
   "metadata": {},
   "source": [
    "## Main function"
   ]
  },
  {
   "cell_type": "code",
   "execution_count": 8,
   "metadata": {},
   "outputs": [],
   "source": [
    "# element recognition model\n",
    "ele_cfg, ele_model = element_config(rcnn_weights_path = 'output/website_lr0.001/model_final.pth', \n",
    "                                    rcnn_cfg_path='configs/faster_rcnn_web.yaml')\n"
   ]
  },
  {
   "cell_type": "code",
   "execution_count": 9,
   "metadata": {},
   "outputs": [],
   "source": [
    "# # old logo recognition model\n",
    "# logo_cfg, logo_model = element_config(rcnn_weights_path = '../detectron2_1/output/rcnn_2/rcnn_bet365.pth', \n",
    "#                                       rcnn_cfg_path='../detectron2_1/output/rcnn_2/config.yaml')"
   ]
  },
  {
   "cell_type": "code",
   "execution_count": 10,
   "metadata": {},
   "outputs": [],
   "source": [
    "cls_model = credential_config(checkpoint='credential_classifier/FCMax_0.05.pth.tar')"
   ]
  },
  {
   "cell_type": "code",
   "execution_count": 11,
   "metadata": {},
   "outputs": [
    {
     "name": "stderr",
     "output_type": "stream",
     "text": [
      "  1%|▏         | 4/277 [00:01<01:21,  3.34it/s]/home/l/liny/anaconda3/envs/mypy37_junyang/lib/python3.7/site-packages/PIL/Image.py:932: UserWarning: Palette images with Transparency expressed in bytes should be converted to RGBA images\n",
      "  \"Palette images with Transparency expressed in bytes should be \"\n",
      "100%|██████████| 277/277 [01:15<00:00,  3.67it/s]\n"
     ]
    }
   ],
   "source": [
    "pedia_model, logo_feat_list, file_name_list = phishpedia_config(num_classes=277, \n",
    "                                                weights_path='phishpedia/resnetv2_rgb_new.pth.tar',\n",
    "                                                targetlist_path='phishpedia/expand_targetlist/')"
   ]
  },
  {
   "cell_type": "code",
   "execution_count": 12,
   "metadata": {},
   "outputs": [
    {
     "data": {
      "text/plain": [
       "(3048,)"
      ]
     },
     "execution_count": 12,
     "metadata": {},
     "output_type": "execute_result"
    }
   ],
   "source": [
    "file_name_list.shape"
   ]
  },
  {
   "cell_type": "markdown",
   "metadata": {},
   "source": [
    "- Element detector"
   ]
  },
  {
   "cell_type": "code",
   "execution_count": 15,
   "metadata": {
    "code_folding": [
     4
    ]
   },
   "outputs": [],
   "source": [
    "phish30k_dir = '../phishpedia/benchmark/test30k/phish_sample_30k'\n",
    "domain_map_path = 'phishpedia/domain_map.pkl'\n",
    "write_txt = 'results/phishpedia_phish30k_0.83.txt'\n",
    "\n",
    "with open(write_txt, 'w') as f:\n",
    "    f.write('folder\\t')\n",
    "    f.write('true_brand\\t')   \n",
    "    f.write('phish_category\\t')\n",
    "    f.write('pred_brand\\t')   \n",
    "    f.write('runtime_element_recognition\\t')   \n",
    "    f.write('runtime_siamese\\n')  "
   ]
  },
  {
   "cell_type": "code",
   "execution_count": 16,
   "metadata": {
    "code_folding": [
     0
    ]
   },
   "outputs": [
    {
     "name": "stderr",
     "output_type": "stream",
     "text": [
      "100%|██████████| 29496/29496 [1:35:53<00:00,  5.13it/s]  \n"
     ]
    }
   ],
   "source": [
    "for folder in tqdm(os.listdir(phish30k_dir)):\n",
    "        \n",
    "    phish_category = 0 # 0 for benign, 1 for phish, by default is benign\n",
    "    pred_target = None # predicted target, default is None\n",
    "    \n",
    "    img_path = os.path.join(phish30k_dir, folder, 'shot.png')\n",
    "    url = eval(open(os.path.join(phish30k_dir, folder, 'info.txt'), encoding = \"ISO-8859-1\").read())\n",
    "    url = url['url'] if isinstance(url, dict) else url\n",
    "    \n",
    "    # Element recognition module\n",
    "    start_time = time.time()\n",
    "    pred_classes, pred_boxes, pred_scores = element_recognition(img=img_path, model=ele_model)\n",
    "    ele_recog_time = time.time() - start_time\n",
    "    \n",
    "    # If no element is reported\n",
    "    if len(pred_boxes) == 0:\n",
    "        phish_category = 0 # Report as benign\n",
    "        \n",
    "    # If at least one element is reported\n",
    "    else: \n",
    "        # Phishpedia module\n",
    "        start_time = time.time()\n",
    "        pred_target = phishpedia_classifier(pred_classes=pred_classes, pred_boxes=pred_boxes, \n",
    "                                            domain_map_path=domain_map_path,\n",
    "                                            model=pedia_model, \n",
    "                                            logo_feat_list=logo_feat_list, file_name_list=file_name_list, \n",
    "                                            url=url,\n",
    "                                            shot_path=img_path,\n",
    "                                            ts=0.83)\n",
    "        siamese_time = time.time() - start_time\n",
    "\n",
    "        # Phishpedia reports target\n",
    "        if pred_target is not None:\n",
    "            phish_category = 1 # Report as phish\n",
    "\n",
    "        # Phishpedia does not report target\n",
    "        else: # Report as benign\n",
    "            phish_category = 0\n",
    "            \n",
    "    # write to txt file\n",
    "    with open(write_txt, 'a+') as f:\n",
    "        f.write(folder+'\\t')\n",
    "        f.write(brand_converter(folder.split('+')[0])+'\\t') # true brand\n",
    "        f.write(str(phish_category)+'\\t') # phish/benign\n",
    "        f.write(brand_converter(pred_target)+'\\t') if pred_target is not None else f.write('\\t')# phishing target\n",
    "        # element recognition time\n",
    "        f.write(str(ele_recog_time)+'\\t') \n",
    "        #siamese time\n",
    "        f.write(str(siamese_time)+'\\n') if 'siamese_time' in locals() else f.write('\\n') \n",
    "    \n",
    "    # delete time variables\n",
    "    try:\n",
    "        del ele_recog_time\n",
    "        del siamese_time\n",
    "    except:\n",
    "        pass"
   ]
  },
  {
   "cell_type": "markdown",
   "metadata": {},
   "source": [
    "- Element detector + Credential classifier"
   ]
  },
  {
   "cell_type": "code",
   "execution_count": 85,
   "metadata": {
    "code_folding": [
     4
    ]
   },
   "outputs": [],
   "source": [
    "phish30k_dir = '../phishpedia/benchmark/test30k/phish_sample_30k'\n",
    "domain_map_path = 'phishpedia/domain_map.pkl'\n",
    "write_txt = 'results/phishpedia_phish30k_0.83_v2_conf.txt'\n",
    "\n",
    "with open(write_txt, 'w') as f:\n",
    "    f.write('folder\\t')\n",
    "    f.write('true_brand\\t')   \n",
    "    f.write('phish_category\\t')\n",
    "    f.write('pred_brand\\t')   \n",
    "    f.write('runtime_element_recognition\\t')   \n",
    "    f.write('runtime_credential_classifier\\t')\n",
    "    f.write('runtime_siamese\\n')  "
   ]
  },
  {
   "cell_type": "code",
   "execution_count": null,
   "metadata": {
    "code_folding": [
     0
    ]
   },
   "outputs": [
    {
     "name": "stderr",
     "output_type": "stream",
     "text": [
      "  6%|▌         | 1664/29496 [06:13<1:27:15,  5.32it/s] "
     ]
    }
   ],
   "source": [
    "for folder in tqdm(os.listdir(phish30k_dir)):\n",
    "        \n",
    "    phish_category = 0 # 0 for benign, 1 for phish, by default is benign\n",
    "    pred_target = None # predicted target, default is None\n",
    "    \n",
    "    img_path = os.path.join(phish30k_dir, folder, 'shot.png')\n",
    "    url = eval(open(os.path.join(phish30k_dir, folder, 'info.txt'), encoding = \"ISO-8859-1\").read())\n",
    "    url = url['url'] if isinstance(url, dict) else url\n",
    "    \n",
    "    # Element recognition module\n",
    "    start_time = time.time()\n",
    "    pred_classes, pred_boxes, pred_scores = element_recognition(img=img_path, model=ele_model)\n",
    "    ele_recog_time = time.time() - start_time\n",
    "    \n",
    "    # If no element is reported\n",
    "    if len(pred_boxes) == 0:\n",
    "        phish_category = 0 # Report as benign\n",
    "        \n",
    "    # If at least one element is reported\n",
    "    else: \n",
    "        # Credential classifier module\n",
    "        start_time = time.time()\n",
    "        cre_pred, cre_conf = credential_classifier(img=img_path, coords=pred_boxes, types=pred_classes, model=cls_model)\n",
    "        credential_cls_time = time.time() - start_time\n",
    "        \n",
    "        # Credential page: conservative classification\n",
    "        if cre_conf >= 0.35: \n",
    "\n",
    "            # Phishpedia module\n",
    "            start_time = time.time()\n",
    "            pred_target = phishpedia_classifier(pred_classes=pred_classes, pred_boxes=pred_boxes, \n",
    "                                                domain_map_path=domain_map_path,\n",
    "                                                model=pedia_model, \n",
    "                                                logo_feat_list=logo_feat_list, file_name_list=file_name_list, \n",
    "                                                url=url,\n",
    "                                                shot_path=img_path,\n",
    "                                                ts=0.83)\n",
    "            siamese_time = time.time() - start_time\n",
    "\n",
    "            # Phishpedia reports target\n",
    "            if pred_target is not None:\n",
    "                phish_category = 1 # Report as phish\n",
    "\n",
    "            # Phishpedia does not report target\n",
    "            else: # Report as benign\n",
    "                phish_category = 0\n",
    "                \n",
    "        # Non-credential page: conservative classification\n",
    "        elif cre_conf < 0.35: \n",
    "            # TODO: dynamic module here\n",
    "            phish_category = 0 # Report as benign\n",
    "\n",
    "            \n",
    "    # write to txt file\n",
    "    with open(write_txt, 'a+') as f:\n",
    "        f.write(folder+'\\t')\n",
    "        f.write(brand_converter(folder.split('+')[0])+'\\t') # true brand\n",
    "        f.write(str(phish_category)+'\\t') # phish/benign\n",
    "        f.write(brand_converter(pred_target)+'\\t') if pred_target is not None else f.write('\\t')# phishing target\n",
    "        # element recognition time\n",
    "        f.write(str(ele_recog_time)+'\\t') \n",
    "        # credential classifier time\n",
    "        f.write(str(credential_cls_time)+'\\t') if 'credential_cls_time' in locals() else f.write('\\t')\n",
    "        #siamese time\n",
    "        f.write(str(siamese_time)+'\\n') if 'siamese_time' in locals() else f.write('\\n') \n",
    "    \n",
    "    # delete time variables\n",
    "    try:\n",
    "        del ele_recog_time\n",
    "        del credential_cls_time\n",
    "        del siamese_time\n",
    "    except:\n",
    "        pass"
   ]
  },
  {
   "cell_type": "markdown",
   "metadata": {},
   "source": [
    "- Element detector + Credential classifier + Layout matcher"
   ]
  },
  {
   "cell_type": "code",
   "execution_count": 281,
   "metadata": {
    "code_folding": [
     7
    ]
   },
   "outputs": [],
   "source": [
    "phish30k_dir = '../phishpedia/benchmark/test30k/phish_sample_30k'\n",
    "domain_map_path = 'phishpedia/domain_map.pkl'\n",
    "layout_cfg_dir = 'layout_matcher/configs.yaml'\n",
    "layout_ref_dir = 'layout_matcher/layout_reference'\n",
    "layout_ts = 0.4 # TODO: set this ts\n",
    "write_txt = 'results/phishintention_phish30k_0.83_ts0.4_v2.txt'\n",
    "\n",
    "with open(write_txt, 'w') as f:\n",
    "    f.write('folder\\t')\n",
    "    f.write('true_brand\\t')   \n",
    "    f.write('phish_category\\t')\n",
    "    f.write('pred_brand\\t')   \n",
    "    f.write('runtime_element_recognition\\t')   \n",
    "    f.write('runtime_credential_classifier\\t')   \n",
    "    f.write('runtime_siamese\\t')  \n",
    "    f.write('runtime_layout\\n')"
   ]
  },
  {
   "cell_type": "code",
   "execution_count": 282,
   "metadata": {
    "code_folding": [
     1
    ],
    "scrolled": true
   },
   "outputs": [
    {
     "name": "stderr",
     "output_type": "stream",
     "text": [
      "  0%|          | 26/29496 [00:08<5:11:55,  1.57it/s]/home/l/liny/anaconda3/envs/mypy37_junyang/lib/python3.7/site-packages/PIL/Image.py:932: UserWarning: Palette images with Transparency expressed in bytes should be converted to RGBA images\n",
      "  \"Palette images with Transparency expressed in bytes should be \"\n",
      "100%|██████████| 29496/29496 [3:13:06<00:00,  2.55it/s]   \n"
     ]
    }
   ],
   "source": [
    "    \n",
    "for folder in tqdm(os.listdir(phish30k_dir)):\n",
    "    \n",
    "    phish_category = 0 # 0 for benign, 1 for suspicious, 2 for phish\n",
    "    pred_target = None # predicted target, default is None\n",
    "    \n",
    "    img_path = os.path.join(phish30k_dir, folder, 'shot.png')\n",
    "    url = eval(open(os.path.join(phish30k_dir, folder, 'info.txt'), encoding = \"ISO-8859-1\").read())\n",
    "    url = url['url'] if isinstance(url, dict) else url\n",
    "    \n",
    "    # Element recognition module\n",
    "    start_time = time.time()\n",
    "    pred_classes, pred_boxes, pred_scores = element_recognition(img=img_path, model=ele_model)\n",
    "    ele_recog_time = time.time() - start_time\n",
    "    \n",
    "    # If no element is reported\n",
    "    if len(pred_boxes) == 0:\n",
    "        phish_category = 0 # Report as benign\n",
    "        \n",
    "    # If at least one element is reported\n",
    "    else:\n",
    "        # Credential classifier module\n",
    "        start_time = time.time()\n",
    "        cre_pred, _ = credential_classifier(img=img_path, coords=pred_boxes, types=pred_classes, model=cls_model)\n",
    "        credential_cls_time = time.time() - start_time\n",
    "        \n",
    "        # Credential page\n",
    "        if cre_pred == 0: \n",
    "            # Phishpedia module\n",
    "            start_time = time.time()\n",
    "            pred_target = phishpedia_classifier(pred_classes=pred_classes, pred_boxes=pred_boxes, \n",
    "                                                domain_map_path=domain_map_path,\n",
    "                                                model=pedia_model, \n",
    "                                                logo_feat_list=logo_feat_list, file_name_list=file_name_list,\n",
    "                                                url=url,\n",
    "                                                shot_path=img_path,\n",
    "                                                ts=0.83)\n",
    "            siamese_time = time.time() - start_time\n",
    "\n",
    "            # Phishpedia reports target \n",
    "            if pred_target is not None:\n",
    "                # Layout module is only built w.r.t specific brands (social media brands)\n",
    "                if pred_target not in ['Amazon', 'Facebook', 'Google', 'Instagram', \n",
    "                                       'LinkedIn Corporation', 'ms_skype', 'Twitter, Inc.']:\n",
    "                    phish_category = 2 # Report as phish\n",
    "                \n",
    "                else: \n",
    "                    # Layout template matching\n",
    "                    layout_cfg, gt_coords_arr, gt_files_arr, gt_shot_size_arr = layout_config(cfg_dir=layout_cfg_dir, \n",
    "                                                                                       ref_dir=layout_ref_dir, \n",
    "                                                                                       matched_brand=pred_target)\n",
    "                    start_time = time.time()\n",
    "                    max_s, max_site = layout_matcher(pred_boxes=pred_boxes, img=img_path, \n",
    "                                   gt_coords_arr=gt_coords_arr, gt_files_arr=gt_files_arr, gt_shot_size_arr=gt_shot_size_arr,\n",
    "                                   cfg=layout_cfg)\n",
    "                    layout_time = time.time() - start_time\n",
    "\n",
    "                    # Success layout match\n",
    "                    if max_s >= layout_ts: \n",
    "                        phish_category = 2 # Report as phish\n",
    "\n",
    "                    # Un-successful layout match\n",
    "                    else: \n",
    "                        phish_category = 1 # Report as suspicious\n",
    "\n",
    "            # Phishpedia does not report target\n",
    "            else: # Report as benign\n",
    "                phish_category = 0\n",
    "\n",
    "        # Non-credential page\n",
    "        elif cre_pred == 1: \n",
    "            # TODO: dynamic module here\n",
    "            phish_category = 0 # Report as benign\n",
    "            \n",
    "    # write to txt file\n",
    "    with open(write_txt, 'a+') as f:\n",
    "        f.write(folder+'\\t')\n",
    "        f.write(brand_converter(folder.split('+')[0])+'\\t') # true brand\n",
    "        f.write(str(phish_category)+'\\t') # phish/benign/suspicious\n",
    "        f.write(brand_converter(pred_target)+'\\t') if pred_target is not None else f.write('\\t')# phishing target\n",
    "        # element recognition time\n",
    "        f.write(str(ele_recog_time)+'\\t') \n",
    "        # credential classifier time\n",
    "        f.write(str(credential_cls_time)+'\\t') if 'credential_cls_time' in locals() else f.write('\\t') \n",
    "        # siamese time\n",
    "        f.write(str(siamese_time)+'\\t') if 'siamese_time' in locals() else f.write('\\t') \n",
    "        # layout time\n",
    "        f.write(str(layout_time)+'\\n') if 'layout_time' in locals() else f.write('\\n') \n",
    "        \n",
    "    # delete time variables\n",
    "    try:\n",
    "        del ele_recog_time\n",
    "        del credential_cls_time\n",
    "        del siamese_time\n",
    "        del layout_time\n",
    "    except:\n",
    "        pass\n",
    "            "
   ]
  },
  {
   "cell_type": "markdown",
   "metadata": {},
   "source": [
    "- Element detector + Credential heuristic + Siamese"
   ]
  },
  {
   "cell_type": "code",
   "execution_count": 14,
   "metadata": {},
   "outputs": [],
   "source": [
    "phish30k_dir = '../phishpedia/benchmark/test30k/phish_sample_30k'\n",
    "domain_map_path = 'phishpedia/domain_map.pkl'\n",
    "layout_cfg_dir = 'layout_matcher/configs.yaml'\n",
    "write_txt = 'results/phishintention_phish30k_0.83_noclassifier.txt'\n",
    "\n",
    "with open(write_txt, 'w') as f:\n",
    "    f.write('folder\\t')\n",
    "    f.write('true_brand\\t')   \n",
    "    f.write('phish_category\\t')\n",
    "    f.write('pred_brand\\t')   \n",
    "    f.write('runtime_element_recognition\\t')   \n",
    "    f.write('runtime_credential_classifier\\t')   \n",
    "    f.write('runtime_siamese\\n')  "
   ]
  },
  {
   "cell_type": "code",
   "execution_count": null,
   "metadata": {},
   "outputs": [
    {
     "name": "stderr",
     "output_type": "stream",
     "text": [
      " 24%|██▎       | 6960/29496 [17:25<55:49,  6.73it/s]  "
     ]
    }
   ],
   "source": [
    "    \n",
    "for folder in tqdm(os.listdir(phish30k_dir)):\n",
    "    \n",
    "    phish_category = 0 # 0 for benign, 1 for phish\n",
    "    pred_target = None # predicted target, default is None\n",
    "    \n",
    "    img_path = os.path.join(phish30k_dir, folder, 'shot.png')\n",
    "    url = eval(open(os.path.join(phish30k_dir, folder, 'info.txt'), encoding = \"ISO-8859-1\").read())\n",
    "    url = url['url'] if isinstance(url, dict) else url\n",
    "    \n",
    "    # Element recognition module\n",
    "    start_time = time.time()\n",
    "    pred_classes, pred_boxes, pred_scores = element_recognition(img=img_path, model=ele_model)\n",
    "    ele_recog_time = time.time() - start_time\n",
    "    \n",
    "    # If no element is reported\n",
    "    if len(pred_boxes) == 0:\n",
    "        phish_category = 0 # Report as benign\n",
    "        \n",
    "    # If at least one element is reported\n",
    "    else:\n",
    "        # Credential heuristic module\n",
    "        start_time = time.time()\n",
    "        pattern_ct = layout_heuristic(pred_boxes, pred_classes)\n",
    "        if pattern_ct >= 2:\n",
    "            cre_pred = 0\n",
    "        else:\n",
    "            # Credential classifier module\n",
    "#             cre_pred, _ = credential_classifier(img=img_path, coords=pred_boxes, types=pred_classes, model=cls_model)\n",
    "            cre_pred = 1\n",
    "        credential_cls_time = time.time() - start_time\n",
    "        \n",
    "        # Credential page\n",
    "        if cre_pred == 0: \n",
    "            # Phishpedia module\n",
    "            start_time = time.time()\n",
    "            pred_target = phishpedia_classifier(pred_classes=pred_classes, pred_boxes=pred_boxes, \n",
    "                                                domain_map_path=domain_map_path,\n",
    "                                                model=pedia_model, \n",
    "                                                logo_feat_list=logo_feat_list, file_name_list=file_name_list,\n",
    "                                                url=url,\n",
    "                                                shot_path=img_path,\n",
    "                                                ts=0.83)\n",
    "            siamese_time = time.time() - start_time\n",
    "\n",
    "            # Phishpedia reports target \n",
    "            if pred_target is not None:\n",
    "                phish_category = 1 # Report as phishing\n",
    "\n",
    "            # Phishpedia does not report target\n",
    "            else: # Report as benign\n",
    "                phish_category = 0\n",
    "\n",
    "        # Non-credential page\n",
    "        elif cre_pred == 1: \n",
    "            # TODO: dynamic module here\n",
    "            phish_category = 0 # Report as benign\n",
    "            \n",
    "    # write to txt file\n",
    "    with open(write_txt, 'a+') as f:\n",
    "        f.write(folder+'\\t')\n",
    "        f.write(brand_converter(folder.split('+')[0])+'\\t') # true brand\n",
    "        f.write(str(phish_category)+'\\t') # phish/benign/suspicious\n",
    "        f.write(brand_converter(pred_target)+'\\t') if pred_target is not None else f.write('\\t')# phishing target\n",
    "        # element recognition time\n",
    "        f.write(str(ele_recog_time)+'\\t') \n",
    "        # credential classifier/heuristic time\n",
    "        f.write(str(credential_cls_time)+'\\t') if 'credential_cls_time' in locals() else f.write('\\t') \n",
    "        # siamese time\n",
    "        f.write(str(siamese_time)+'\\n') if 'siamese_time' in locals() else f.write('\\n') \n",
    "        \n",
    "    # delete time variables\n",
    "    try:\n",
    "        del ele_recog_time\n",
    "        del credential_cls_time\n",
    "        del siamese_time\n",
    "    except:\n",
    "        pass\n",
    "            "
   ]
  },
  {
   "cell_type": "markdown",
   "metadata": {},
   "source": [
    "- Test single site"
   ]
  },
  {
   "cell_type": "code",
   "execution_count": 25,
   "metadata": {
    "code_folding": [
     17
    ]
   },
   "outputs": [],
   "source": [
    "img_path = 'datasets/train_imgs/Amazon.com Inc.+2020-08-16-15`54`25.png'\n",
    "domain_map_path = 'phishpedia/domain_map.pkl'\n",
    "\n",
    "pred_classes, pred_boxes, pred_scores = element_recognition(img=img_path, model=ele_model)\n",
    "\n",
    "cls_pred = credential_classifier(img_path, pred_boxes, pred_classes, cls_model)\n",
    "\n",
    "pred_target = phishpedia_classifier(pred_classes=pred_classes, pred_boxes=pred_boxes, \n",
    "                                    domain_map_path=domain_map_path,\n",
    "                                    model=pedia_model, \n",
    "                                    logo_feat_list=logo_feat_list, file_name_list=file_name_list, \n",
    "                                    shot_path=img_path,\n",
    "                                    url='https://www.kkk.com',\n",
    "                                    ts=0.83)\n",
    "\n",
    "layout_cfg, gt_coords_arr, gt_files_arr, gt_shot_size_arr = layout_config(cfg_dir='layout_matcher/configs.yaml', \n",
    "                                                                   ref_dir='layout_matcher/layout_reference', \n",
    "                                                                   matched_brand=pred_target)\n",
    "\n",
    "max_s, max_site = layout_matcher(pred_boxes=pred_boxes, img=img_path, \n",
    "                                 gt_coords_arr=gt_coords_arr, gt_files_arr=gt_files_arr, gt_shot_size_arr=gt_shot_size_arr,\n",
    "                                 cfg=layout_cfg)"
   ]
  },
  {
   "cell_type": "code",
   "execution_count": 33,
   "metadata": {
    "code_folding": []
   },
   "outputs": [],
   "source": [
    "# check = cv2.imread(img_path)\n",
    "# for j, box in enumerate(pred_boxes):\n",
    "#     cv2.rectangle(check, (box[0], box[1]), (box[2], box[3]), (36, 255, 12), 2)\n",
    "#     cv2.putText(check, str(pred_classes[j].item()), (box[0], box[1]), cv2.FONT_HERSHEY_SIMPLEX, 0.5, (0, 0, 255), 2)\n",
    "\n",
    "# plt.figure(figsize=(20,20))\n",
    "# plt.imshow(check[:, :, ::-1])"
   ]
  },
  {
   "cell_type": "markdown",
   "metadata": {},
   "source": [
    "## Evaluation"
   ]
  },
  {
   "cell_type": "code",
   "execution_count": 36,
   "metadata": {},
   "outputs": [],
   "source": [
    "import pandas as pd"
   ]
  },
  {
   "cell_type": "code",
   "execution_count": 37,
   "metadata": {
    "code_folding": [
     0
    ]
   },
   "outputs": [],
   "source": [
    "def phishpedia_classifier_debug(pred_classes, pred_boxes, \n",
    "                          domain_map_path,\n",
    "                          model, logo_feat_list, file_name_list, shot_path, \n",
    "                          url, \n",
    "                          ts):\n",
    "    \n",
    "    # targetlist domain list\n",
    "    with open(domain_map_path, 'rb') as handle:\n",
    "        domain_map = pickle.load(handle)\n",
    "        \n",
    "    # look at boxes for logo class only\n",
    "    logo_boxes = pred_boxes[pred_classes==0] \n",
    "    \n",
    "    # run logo matcher\n",
    "    pred_target = None\n",
    "    if len(logo_boxes) > 0:\n",
    "        # siamese prediction for logo box\n",
    "        for i, coord in enumerate(logo_boxes):\n",
    "            min_x, min_y, max_x, max_y = coord\n",
    "            bbox = [float(min_x), float(min_y), float(max_x), float(max_y)]\n",
    "            target_this, domain_this = siamese_inference_debug(model, domain_map, \n",
    "                                                         logo_feat_list, file_name_list,\n",
    "                                                         shot_path, bbox, t_s=ts, grayscale=False)\n",
    "            \n",
    "            # domain matcher to avoid FP\n",
    "            if not target_this is None and tldextract.extract(url).domain not in domain_this: \n",
    "                pred_target = target_this \n",
    "                break # break if target is matched\n",
    "    \n",
    "    return brand_converter(pred_target)"
   ]
  },
  {
   "cell_type": "code",
   "execution_count": 38,
   "metadata": {
    "code_folding": [
     0
    ]
   },
   "outputs": [],
   "source": [
    "def evaluate(result_path, gt_type):\n",
    "    assert gt_type in ['phish', 'benign'] # gt type is either phish/benign\n",
    "    results = [x.strip() for x in open(result_path).readlines()]\n",
    "    mat = [n.split('\\t') for n in results]\n",
    "    df = pd.DataFrame(mat)\n",
    "    df.columns = df.iloc[0]\n",
    "    df = df.reindex(df.index.drop(0))\n",
    "    return df"
   ]
  },
  {
   "cell_type": "markdown",
   "metadata": {},
   "source": [
    "- Phishpedia v1"
   ]
  },
  {
   "cell_type": "code",
   "execution_count": 27,
   "metadata": {},
   "outputs": [],
   "source": [
    "result = evaluate(result_path='results/phishpedia_phish30k_0.83.txt', gt_type='phish')\n",
    "correct = result.iloc[np.where(result['true_brand'] == result['pred_brand'])[0], :]\n",
    "num_match = np.sum(result['true_brand'] == result['pred_brand'])\n",
    "print(num_match)\n",
    "fn_nopred = result.iloc[np.where((result['true_brand'] != result['pred_brand']) & (result['pred_brand'] == ''))[0], :]\n",
    "fn_wrongpred = result.iloc[np.where(((result['true_brand']) != result['pred_brand']) & (result['pred_brand'] != ''))[0], :]"
   ]
  },
  {
   "cell_type": "markdown",
   "metadata": {},
   "source": [
    "- Phishpedia v2"
   ]
  },
  {
   "cell_type": "code",
   "execution_count": 87,
   "metadata": {},
   "outputs": [],
   "source": [
    "result_v2 = evaluate(result_path='results/phishpedia_phish30k_0.83_v2.txt', gt_type='phish')\n",
    "fn_nopred_v2 = result_v2.iloc[np.where((result_v2['true_brand'] != result_v2['pred_brand']) & (result_v2['pred_brand'] == ''))[0], :]\n",
    "print(np.sum(result_v2['true_brand'] == result_v2['pred_brand']))\n",
    "# new fns created by credential classifier\n",
    "new_fn = fn_nopred_v2.iloc[np.where(fn_nopred_v2['folder'].isin(list(correct['folder'])))[0], :]"
   ]
  },
  {
   "cell_type": "code",
   "execution_count": null,
   "metadata": {
    "code_folding": [
     2
    ],
    "scrolled": true
   },
   "outputs": [],
   "source": [
    "ct = 0\n",
    "domain_map_path = 'phishpedia/domain_map.pkl'\n",
    "for folder in list(new_fn['folder']):\n",
    "        \n",
    "    img_path = '../phishpedia/benchmark/test30k/phish_sample_30k/{}/shot.png'.format(folder)\n",
    "    url = eval(open('../phishpedia/benchmark/test30k/phish_sample_30k/{}/info.txt'.format(folder), encoding = \"ISO-8859-1\").read())['url']\n",
    "\n",
    "    pred_classes, pred_boxes, pred_scores = element_recognition(img=img_path,\n",
    "                                                                model=ele_model)\n",
    "    \n",
    "    cre_pred, cre_conf = credential_classifier(img=img_path, coords=pred_boxes, types=pred_classes, model=cls_model)\n",
    "\n",
    "    if cre_pred == 1:\n",
    "        print('Wrongly predicted as non credential')\n",
    "    \n",
    "    else: # this should not be executed \n",
    "        pred_target = phishpedia_classifier_debug(pred_classes=pred_classes, pred_boxes=pred_boxes, \n",
    "                                        domain_map_path=domain_map_path,\n",
    "                                        model=pedia_model, \n",
    "                                        logo_feat_list=logo_feat_list, file_name_list=file_name_list, \n",
    "                                        url=url,\n",
    "                                        shot_path=img_path,\n",
    "                                        ts=0.83)\n",
    "    check = cv2.imread(img_path)\n",
    "    for j, box in enumerate(pred_boxes):\n",
    "        cv2.rectangle(check, (box[0], box[1]), (box[2], box[3]), (36, 255, 12), 2)\n",
    "        cv2.putText(check, str(pred_classes[j].item()), (box[0], box[1]+20), cv2.FONT_HERSHEY_SIMPLEX, 0.5, (0, 0, 255), 2)\n",
    "    \n",
    "    print(folder)\n",
    "    plt.figure(figsize=(20,20))\n",
    "    plt.title(str(round(cre_conf, 5)))\n",
    "    plt.imshow(check[:, :, ::-1])\n",
    "    plt.show()\n",
    "    ct += 1\n",
    "    if ct >= 50:\n",
    "        break"
   ]
  },
  {
   "cell_type": "markdown",
   "metadata": {},
   "source": [
    "- PhishIntention"
   ]
  },
  {
   "cell_type": "code",
   "execution_count": 114,
   "metadata": {
    "code_folding": [
     0
    ]
   },
   "outputs": [],
   "source": [
    "def evaluate_v3(result_path, gt_type):\n",
    "    assert gt_type in ['phish', 'benign'] # gt type is either phish/benign\n",
    "    results = [x.strip() for x in open(result_path).readlines()]\n",
    "    mat = [n.split('\\t') for n in results]\n",
    "    df = pd.DataFrame(mat)\n",
    "    df.columns = df.iloc[0]\n",
    "    df = df.reindex(df.index.drop(0))\n",
    "    \n",
    "    # FN reason1: credential classifier report it as non-credential\n",
    "    fn_wrong_cls = df.iloc[np.where((df['true_brand'] != df['pred_brand']) & (df['runtime_siamese'].isnull()))[0],:]  \n",
    "    \n",
    "    # FN reson2: phishpedia does not report target --> further check element detection ? siamese ?\n",
    "    fn_wrong_pedia = df.iloc[np.where((df['true_brand'] != df['pred_brand']) & \\\n",
    "                                      (~df['true_brand'].isin(['Amazon', 'Facebook', 'Google', 'Instagram', \n",
    "                                         'LinkedIn Corporation', 'ms_skype', 'Twitter, Inc.'])) & \\\n",
    "                                      (df['runtime_siamese'].notnull()))[0],:]  \n",
    "    \n",
    "    # FN reason 3\n",
    "    fn_wrong_layout = df.iloc[np.where((df['true_brand'] != df['pred_brand']) & \\\n",
    "                                       (df['true_brand'].isin(['Amazon', 'Facebook', 'Google', 'Instagram', \n",
    "                                         'LinkedIn Corporation', 'ms_skype', 'Twitter, Inc.'])) & \\\n",
    "                                       (df['runtime_siamese'].notnull()))[0], :]\n",
    "    \n",
    "    return df, fn_wrong_cls, fn_wrong_pedia, fn_wrong_layout"
   ]
  },
  {
   "cell_type": "code",
   "execution_count": 39,
   "metadata": {
    "scrolled": false
   },
   "outputs": [],
   "source": [
    "df = evaluate(result_path='results/phishintention_phish30k_0.83_heu_new.txt', gt_type='phish')"
   ]
  },
  {
   "cell_type": "code",
   "execution_count": 40,
   "metadata": {},
   "outputs": [
    {
     "data": {
      "text/html": [
       "<div>\n",
       "<style scoped>\n",
       "    .dataframe tbody tr th:only-of-type {\n",
       "        vertical-align: middle;\n",
       "    }\n",
       "\n",
       "    .dataframe tbody tr th {\n",
       "        vertical-align: top;\n",
       "    }\n",
       "\n",
       "    .dataframe thead th {\n",
       "        text-align: right;\n",
       "    }\n",
       "</style>\n",
       "<table border=\"1\" class=\"dataframe\">\n",
       "  <thead>\n",
       "    <tr style=\"text-align: right;\">\n",
       "      <th></th>\n",
       "      <th>folder</th>\n",
       "      <th>true_brand</th>\n",
       "      <th>phish_category</th>\n",
       "      <th>pred_brand</th>\n",
       "      <th>runtime_element_recognition</th>\n",
       "      <th>runtime_credential_classifier</th>\n",
       "      <th>runtime_siamese</th>\n",
       "    </tr>\n",
       "  </thead>\n",
       "  <tbody>\n",
       "    <tr>\n",
       "      <th>1</th>\n",
       "      <td>Office365+2019-08-19-11`36`29</td>\n",
       "      <td>Microsoft</td>\n",
       "      <td>1</td>\n",
       "      <td>Microsoft</td>\n",
       "      <td>0.09690546989440918</td>\n",
       "      <td>0.013027667999267578</td>\n",
       "      <td>0.04364800453186035</td>\n",
       "    </tr>\n",
       "    <tr>\n",
       "      <th>2</th>\n",
       "      <td>Sparkasse Bank+2020-05-09-12`57`05</td>\n",
       "      <td>Sparkasse Bank</td>\n",
       "      <td>1</td>\n",
       "      <td>Sparkasse Bank</td>\n",
       "      <td>0.09503173828125</td>\n",
       "      <td>0.0005702972412109375</td>\n",
       "      <td>0.05453991889953613</td>\n",
       "    </tr>\n",
       "    <tr>\n",
       "      <th>3</th>\n",
       "      <td>Facebook, Inc.+2020-10-01-14`42`39</td>\n",
       "      <td>Facebook</td>\n",
       "      <td>0</td>\n",
       "      <td></td>\n",
       "      <td>0.10622119903564453</td>\n",
       "      <td>0.0007975101470947266</td>\n",
       "      <td>0.0006957054138183594</td>\n",
       "    </tr>\n",
       "    <tr>\n",
       "      <th>4</th>\n",
       "      <td>Credit Agricole S.A.+2020-05-16-12`26`13</td>\n",
       "      <td>Credit Agricole S.A</td>\n",
       "      <td>1</td>\n",
       "      <td>Credit Agricole S.A</td>\n",
       "      <td>0.09832882881164551</td>\n",
       "      <td>0.0005626678466796875</td>\n",
       "      <td>0.03996729850769043</td>\n",
       "    </tr>\n",
       "    <tr>\n",
       "      <th>5</th>\n",
       "      <td>DGI (French Tax Authority)+2020-06-18-11`33`20</td>\n",
       "      <td>DGI French Tax Authority</td>\n",
       "      <td>1</td>\n",
       "      <td>DGI French Tax Authority</td>\n",
       "      <td>0.10729813575744629</td>\n",
       "      <td>0.0005710124969482422</td>\n",
       "      <td>0.04671931266784668</td>\n",
       "    </tr>\n",
       "    <tr>\n",
       "      <th>...</th>\n",
       "      <td>...</td>\n",
       "      <td>...</td>\n",
       "      <td>...</td>\n",
       "      <td>...</td>\n",
       "      <td>...</td>\n",
       "      <td>...</td>\n",
       "      <td>...</td>\n",
       "    </tr>\n",
       "    <tr>\n",
       "      <th>29492</th>\n",
       "      <td>Facebook, Inc.+2020-05-27-13`04`23</td>\n",
       "      <td>Facebook</td>\n",
       "      <td>1</td>\n",
       "      <td>Facebook</td>\n",
       "      <td>0.10300970077514648</td>\n",
       "      <td>0.0005376338958740234</td>\n",
       "      <td>0.04697370529174805</td>\n",
       "    </tr>\n",
       "    <tr>\n",
       "      <th>29493</th>\n",
       "      <td>Telus+2020-07-28-10`07`57</td>\n",
       "      <td>Telus</td>\n",
       "      <td>1</td>\n",
       "      <td>Telus</td>\n",
       "      <td>0.10494494438171387</td>\n",
       "      <td>0.0005924701690673828</td>\n",
       "      <td>0.0527491569519043</td>\n",
       "    </tr>\n",
       "    <tr>\n",
       "      <th>29494</th>\n",
       "      <td>Facebook, Inc.+2020-05-27-10`51`22</td>\n",
       "      <td>Facebook</td>\n",
       "      <td>1</td>\n",
       "      <td>Facebook</td>\n",
       "      <td>0.10381579399108887</td>\n",
       "      <td>0.00039005279541015625</td>\n",
       "      <td>0.050020456314086914</td>\n",
       "    </tr>\n",
       "    <tr>\n",
       "      <th>29495</th>\n",
       "      <td>NatWest Personal Banking+2020-09-08-10`17`41</td>\n",
       "      <td>NatWest Personal Banking</td>\n",
       "      <td>1</td>\n",
       "      <td>NatWest Personal Banking</td>\n",
       "      <td>0.10422229766845703</td>\n",
       "      <td>0.024766921997070312</td>\n",
       "      <td>0.15473389625549316</td>\n",
       "    </tr>\n",
       "    <tr>\n",
       "      <th>29496</th>\n",
       "      <td>Rakuten+2020-09-08-14`14`28</td>\n",
       "      <td>Rakuten</td>\n",
       "      <td>1</td>\n",
       "      <td>Rakuten</td>\n",
       "      <td>0.1051170825958252</td>\n",
       "      <td>0.0006248950958251953</td>\n",
       "      <td>0.05161261558532715</td>\n",
       "    </tr>\n",
       "  </tbody>\n",
       "</table>\n",
       "<p>29496 rows × 7 columns</p>\n",
       "</div>"
      ],
      "text/plain": [
       "0                                              folder  \\\n",
       "1                       Office365+2019-08-19-11`36`29   \n",
       "2                  Sparkasse Bank+2020-05-09-12`57`05   \n",
       "3                  Facebook, Inc.+2020-10-01-14`42`39   \n",
       "4            Credit Agricole S.A.+2020-05-16-12`26`13   \n",
       "5      DGI (French Tax Authority)+2020-06-18-11`33`20   \n",
       "...                                               ...   \n",
       "29492              Facebook, Inc.+2020-05-27-13`04`23   \n",
       "29493                       Telus+2020-07-28-10`07`57   \n",
       "29494              Facebook, Inc.+2020-05-27-10`51`22   \n",
       "29495    NatWest Personal Banking+2020-09-08-10`17`41   \n",
       "29496                     Rakuten+2020-09-08-14`14`28   \n",
       "\n",
       "0                    true_brand phish_category                pred_brand  \\\n",
       "1                     Microsoft              1                 Microsoft   \n",
       "2                Sparkasse Bank              1            Sparkasse Bank   \n",
       "3                      Facebook              0                             \n",
       "4           Credit Agricole S.A              1       Credit Agricole S.A   \n",
       "5      DGI French Tax Authority              1  DGI French Tax Authority   \n",
       "...                         ...            ...                       ...   \n",
       "29492                  Facebook              1                  Facebook   \n",
       "29493                     Telus              1                     Telus   \n",
       "29494                  Facebook              1                  Facebook   \n",
       "29495  NatWest Personal Banking              1  NatWest Personal Banking   \n",
       "29496                   Rakuten              1                   Rakuten   \n",
       "\n",
       "0     runtime_element_recognition runtime_credential_classifier  \\\n",
       "1             0.09690546989440918          0.013027667999267578   \n",
       "2                0.09503173828125         0.0005702972412109375   \n",
       "3             0.10622119903564453         0.0007975101470947266   \n",
       "4             0.09832882881164551         0.0005626678466796875   \n",
       "5             0.10729813575744629         0.0005710124969482422   \n",
       "...                           ...                           ...   \n",
       "29492         0.10300970077514648         0.0005376338958740234   \n",
       "29493         0.10494494438171387         0.0005924701690673828   \n",
       "29494         0.10381579399108887        0.00039005279541015625   \n",
       "29495         0.10422229766845703          0.024766921997070312   \n",
       "29496          0.1051170825958252         0.0006248950958251953   \n",
       "\n",
       "0            runtime_siamese  \n",
       "1        0.04364800453186035  \n",
       "2        0.05453991889953613  \n",
       "3      0.0006957054138183594  \n",
       "4        0.03996729850769043  \n",
       "5        0.04671931266784668  \n",
       "...                      ...  \n",
       "29492    0.04697370529174805  \n",
       "29493     0.0527491569519043  \n",
       "29494   0.050020456314086914  \n",
       "29495    0.15473389625549316  \n",
       "29496    0.05161261558532715  \n",
       "\n",
       "[29496 rows x 7 columns]"
      ]
     },
     "execution_count": 40,
     "metadata": {},
     "output_type": "execute_result"
    }
   ],
   "source": [
    "df"
   ]
  },
  {
   "cell_type": "code",
   "execution_count": 41,
   "metadata": {},
   "outputs": [
    {
     "name": "stdout",
     "output_type": "stream",
     "text": [
      "24059\n"
     ]
    }
   ],
   "source": [
    "num_match = np.sum(df['true_brand'] == df['pred_brand'])\n",
    "print(num_match)"
   ]
  },
  {
   "cell_type": "code",
   "execution_count": 42,
   "metadata": {},
   "outputs": [
    {
     "data": {
      "text/plain": [
       "24193"
      ]
     },
     "execution_count": 42,
     "metadata": {},
     "output_type": "execute_result"
    }
   ],
   "source": [
    "num_det = np.sum(df['pred_brand'] != '')\n",
    "num_det"
   ]
  },
  {
   "cell_type": "code",
   "execution_count": 29,
   "metadata": {},
   "outputs": [],
   "source": [
    "fn_nopred = df.iloc[np.where((df['true_brand'] != df['pred_brand']) & (df['pred_brand'] == ''))[0], :]"
   ]
  },
  {
   "cell_type": "code",
   "execution_count": 285,
   "metadata": {},
   "outputs": [],
   "source": [
    "fn_wrong_layout = df.iloc[np.where(df['phish_category'] == '1')[0], :]"
   ]
  },
  {
   "cell_type": "code",
   "execution_count": 286,
   "metadata": {
    "scrolled": true
   },
   "outputs": [
    {
     "data": {
      "text/plain": [
       "50"
      ]
     },
     "execution_count": 286,
     "metadata": {},
     "output_type": "execute_result"
    }
   ],
   "source": [
    "len(fn_wrong_layout)"
   ]
  },
  {
   "cell_type": "code",
   "execution_count": 247,
   "metadata": {},
   "outputs": [
    {
     "name": "stdout",
     "output_type": "stream",
     "text": [
      "Total number of interested layout brands is: 2809\n"
     ]
    }
   ],
   "source": [
    "df_interest = df.iloc[np.where(df['true_brand'].isin(['Amazon', 'Facebook', 'Google', 'Instagram', \n",
    "                                         'LinkedIn Corporation', 'Twitter, Inc.', 'ms_skype']))[0], :]\n",
    "print('Total number of interested layout brands is: {:d}'.format(len(df_interest)))"
   ]
  },
  {
   "cell_type": "code",
   "execution_count": 280,
   "metadata": {
    "code_folding": [
     2,
     15,
     41
    ],
    "scrolled": true
   },
   "outputs": [],
   "source": [
    "ct = 0\n",
    "# for folder in list(fn_wrong_layout['folder']):\n",
    "for folder in list(df_interest['folder']):\n",
    "    \n",
    "    if brand_converter(folder.split('+')[0]) != 'ms_skype':\n",
    "        continue\n",
    "\n",
    "    img_path = '../phishpedia/benchmark/test30k/phish_sample_30k/{}/shot.png'.format(folder)\n",
    "    url = eval(open('../phishpedia/benchmark/test30k/phish_sample_30k/{}/info.txt'.format(folder), encoding = \"ISO-8859-1\").read())['url']\n",
    "    \n",
    "    # element recognition\n",
    "    pred_classes, pred_boxes, pred_scores = element_recognition(img=img_path,\n",
    "                                                                model=ele_model)\n",
    "    \n",
    "    # phishpedia\n",
    "    pred_target = phishpedia_classifier(pred_classes=pred_classes, pred_boxes=pred_boxes, \n",
    "                                        domain_map_path=domain_map_path,\n",
    "                                        model=pedia_model, \n",
    "                                        logo_feat_list=logo_feat_list, file_name_list=file_name_list,\n",
    "                                        url=url,\n",
    "                                        shot_path=img_path,\n",
    "                                        ts=0.83)\n",
    "    \n",
    "#     if pred_target is None:\n",
    "#         continue\n",
    "        \n",
    "    # get correponding layout reference templates   \n",
    "    layout_cfg, gt_coords_arr, gt_files_arr, gt_shot_size_arr = layout_config(cfg_dir=layout_cfg_dir, \n",
    "                                                                             ref_dir=layout_ref_dir, \n",
    "                                                                             matched_brand=pred_target)\n",
    "    # layout matcher\n",
    "    max_s, max_site = layout_matcher(pred_boxes=pred_boxes, img=img_path, \n",
    "                   gt_coords_arr=gt_coords_arr, gt_files_arr=gt_files_arr, gt_shot_size_arr=gt_shot_size_arr,\n",
    "                   cfg=layout_cfg)\n",
    "\n",
    "    # plot show this image\n",
    "    print(folder)\n",
    "    check = cv2.imread(img_path)\n",
    "    for j, box in enumerate(pred_boxes):\n",
    "        cv2.rectangle(check, (box[0], box[1]), (box[2], box[3]), (36, 255, 12), 2)\n",
    "    \n",
    "    if max_site is None: # number of reported boxes is less or equal to one\n",
    "        pass\n",
    "    else:\n",
    "        template = cv2.imread(max_site)\n",
    "        for j, box in enumerate(gt_coords_arr[np.where(np.asarray(gt_files_arr) == max_site)[0][0]]):\n",
    "            box = list(map(int, box))\n",
    "            cv2.rectangle(template, (box[0], box[1]), (box[2], box[3]), (36, 255, 12), 2)\n",
    "    \n",
    "    if max_site is None:\n",
    "        plt.figure(figsize=(20,20))\n",
    "        plt.imshow(check[:, :, ::-1])\n",
    "        plt.title('Number of reported boxes is less or equal to one')\n",
    "#         pass\n",
    "    else:\n",
    "        plt.figure(figsize=(20,20))\n",
    "        plt.subplot(1,2,1)\n",
    "        plt.imshow(check[:, :, ::-1])\n",
    "        plt.subplot(1,2,2)\n",
    "        plt.imshow(template[:, :, ::-1])\n",
    "        plt.title('Top1 similar template with similarity = {:.5f}'.format(max_s))\n",
    "    plt.show()\n",
    "    \n",
    "    ct += 1\n",
    "    if ct >= 20:\n",
    "        break"
   ]
  },
  {
   "cell_type": "markdown",
   "metadata": {},
   "source": [
    "- Expand domain map"
   ]
  },
  {
   "cell_type": "code",
   "execution_count": 16,
   "metadata": {
    "code_folding": [
     0
    ]
   },
   "outputs": [],
   "source": [
    "# with open(domain_map_path, 'rb') as handle:\n",
    "#     domain_map = pickle.load(handle)"
   ]
  },
  {
   "cell_type": "code",
   "execution_count": 24,
   "metadata": {
    "code_folding": [
     0
    ]
   },
   "outputs": [],
   "source": [
    "# new_map = {}\n",
    "# for k,v in domain_map.items():\n",
    "#     if brand_converter(k) not in domain_map.keys():\n",
    "#         new_map[brand_converter(k)] = v\n",
    "#     else:\n",
    "#         pass"
   ]
  },
  {
   "cell_type": "code",
   "execution_count": 26,
   "metadata": {
    "code_folding": []
   },
   "outputs": [],
   "source": [
    "# domain_map.update(new_map)"
   ]
  },
  {
   "cell_type": "code",
   "execution_count": null,
   "metadata": {
    "code_folding": [
     0
    ]
   },
   "outputs": [],
   "source": [
    "# for target in os.listdir('phishpedia/expand_targetlist/'):\n",
    "#     if brand_converter(target) not in domain_map.keys():\n",
    "#         print(brand_converter(target))"
   ]
  },
  {
   "cell_type": "code",
   "execution_count": 25,
   "metadata": {
    "code_folding": [
     0
    ]
   },
   "outputs": [],
   "source": [
    "# domain_map['Lloyds TSB Group'] = ['lloydsbankinggroup', 'lloydsbank']\n",
    "\n",
    "# class DomainDict():\n",
    "    \n",
    "#     def __init__(self, domain_map):\n",
    "#         self.domain_map = domain_map\n",
    "        \n",
    "#     def _assign_value(self, key, value):\n",
    "#         self.domain_map[key] = [value]\n",
    "    \n",
    "#     def main(self):\n",
    "#         key_list = ['barclays', 'VKontakte', 'lcl', 'dkb', 'la_banque_postale', 'La Poste', 'EMS',\n",
    "#                     'bcp', 'barclaycard', 'smiles', 'gov_uk', 'cryptobridge', 'ieee', 'strato',\n",
    "#                     'adidas', 'fsnb', 'hfe', 'cetelem', 'Commonwealth Bank of Australia', 'zoominfo',\n",
    "#                     'file_transfer', 'bradesco', 'postbank', 'Airbnb, Inc.', 'SMBC', 'snapchat', \n",
    "#                     'docmagic', 'Halifax Bank of Scotland Plc', 'GMX Mail', 'sicil_shop', 'cathay_bank',\n",
    "#                     'otrs', 'mdpd', 'shoptet', 'tech_target', 'Yandex', 'summit_bank', 'Capitec Bank Limited',\n",
    "#                     'Rakuten', 'ziggo', 'Magalu', 'wp60', 'Rabobank Nederland', 'latam', 'capital_one',\n",
    "#                     'db', 'qnb', 'momentum_office_design', 'Fifth Third Bank', 'banco_de_occidente', 'htb',\n",
    "#                     'orange_rockland', 'Twitter, Inc.', 'Azul', 'ameli_fr', 'typeform', 'cogeco',\n",
    "#                     'banco_inter', 'itunes', 'netsons', 'Three UK', 'bahia', 'test_rite', 'anadolubank',\n",
    "#                     'mbank', 'walmart', 'cloudns', 'crate_and_barrel', 'Boxberry', 'xtrix_tv', 'etrade', \n",
    "#                     'taxact', 'BNP Paribas', 'ocn', 'Raiffeisen Bank S.A.', 'fnac', 'arnet_tech',\n",
    "#                     'nordea', 'sunrise', 'infinisource', 'paschoalotto', 'grupo_bancolombia', 'youtube',\n",
    "#                     'Banco de Cordoba', 'erste', 'cloudconvert', 'ms_bing', 'EE Limited', 'timeweb',\n",
    "#                     'knab', 'sharp', 'smartsheet', 'bestchange', 'blizzard', 'ms_skype', 'eharmony']\n",
    "        \n",
    "#         value_list = ['barclays', 'vk', 'lcl', 'dkb', 'labanquepostale', 'laposte', 'ems',\n",
    "#                     'viabcp', 'barclaycard', 'smiles', 'gov', 'cryptobridge', 'ieee', 'strato',\n",
    "#                     'adidas', 'fsnb', 'hfe', 'cetelem', 'Commonwealth Bank of Australia', 'zoominfo',\n",
    "#                     'filetransfer', 'banco', 'postbank', 'airbnb', 'smbc', 'snapchat', \n",
    "#                     'docmagic', 'halifax', 'gmx', 'sicilshop', 'cathaybank',\n",
    "#                     'otrs', 'mps', 'shoptet', 'tech_target', 'yandex', 'summitbank', 'capitecbank',\n",
    "#                     'rakuten', 'ziggo', 'magazineluiza', 'wp60', 'rabobank', 'latam', 'capitalone',\n",
    "#                     'db', 'qnb', 'momentumoffice', '53', 'bancodeoccidente', 'htb',\n",
    "#                     'oru', 'twitter', 'azul', 'ameli', 'typeform', 'cogeco',\n",
    "#                     'bancointer', 'apple', 'netsons', 'three', 'casasbahia', 'testritegroup', 'anadolubank',\n",
    "#                     'mbank', 'walmart', 'cloudns', 'crateandbarrel', 'boxberry', 'xtrixtv', 'etrade', \n",
    "#                     'taxact', 'bnpparibas', 'tving', 'raiffeisen', 'fnac', 'arnettechnologies',\n",
    "#                     'nordea', 'sunrise', 'infinisource', 'paschoalotto', 'grupobancolombia', 'youtube',\n",
    "#                     'bancor', 'erstegroup', 'cloudconvert', 'bing', 'ee', 'timeweb',\n",
    "#                     'knab', 'sharp', 'smartsheet', 'bestchange', 'blizzard', 'skype', 'eharmony']\n",
    "        \n",
    "#         assert len(key_list) == len(value_list)\n",
    "        \n",
    "#         for i, key in enumerate(key_list):\n",
    "#             self._assign_value(key, value_list[i])\n",
    "            \n",
    "#         return self.domain_map"
   ]
  },
  {
   "cell_type": "code",
   "execution_count": 26,
   "metadata": {},
   "outputs": [],
   "source": [
    "# domaindict = DomainDict(domain_map)"
   ]
  },
  {
   "cell_type": "code",
   "execution_count": 27,
   "metadata": {},
   "outputs": [],
   "source": [
    "# domain_map_after = domaindict.main()"
   ]
  },
  {
   "cell_type": "code",
   "execution_count": 29,
   "metadata": {
    "code_folding": [
     0
    ]
   },
   "outputs": [],
   "source": [
    "# with open(domain_map_path, 'wb') as handle:\n",
    "#     pickle.dump(domain_map, handle)"
   ]
  },
  {
   "cell_type": "code",
   "execution_count": null,
   "metadata": {},
   "outputs": [],
   "source": []
  }
 ],
 "metadata": {
  "kernelspec": {
   "display_name": "Python 3",
   "language": "python",
   "name": "python3"
  },
  "language_info": {
   "codemirror_mode": {
    "name": "ipython",
    "version": 3
   },
   "file_extension": ".py",
   "mimetype": "text/x-python",
   "name": "python",
   "nbconvert_exporter": "python",
   "pygments_lexer": "ipython3",
   "version": "3.7.7"
  }
 },
 "nbformat": 4,
 "nbformat_minor": 4
}
