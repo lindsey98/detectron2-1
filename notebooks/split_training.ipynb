{
 "cells": [
  {
   "cell_type": "code",
   "execution_count": 5,
   "metadata": {},
   "outputs": [],
   "source": [
    "import json\n",
    "import argparse\n",
    "import funcy\n",
    "from sklearn.model_selection import train_test_split"
   ]
  },
  {
   "cell_type": "code",
   "execution_count": 8,
   "metadata": {},
   "outputs": [],
   "source": [
    "def save_coco(file, info, licenses, images, annotations, categories):\n",
    "    with open(file, 'wt', encoding='UTF-8') as coco:\n",
    "        json.dump({ 'info': info, 'licenses': licenses, 'images': images, \n",
    "            'annotations': annotations, 'categories': categories}, coco, indent=2, sort_keys=True)\n",
    "\n",
    "def filter_annotations(annotations, images):\n",
    "    image_ids = funcy.lmap(lambda i: int(i['id']), images)\n",
    "    return funcy.lfilter(lambda a: int(a['image_id']) in image_ids, annotations)\n",
    "\n",
    "def main():\n",
    "    with open('../datasets/coco/annotations/instances_train2017.json', 'rt', encoding='UTF-8') as annotations:\n",
    "        coco = json.load(annotations)\n",
    "        info = coco['info']\n",
    "        licenses = coco['licenses']\n",
    "        images = coco['images']\n",
    "        annotations = coco['annotations']\n",
    "        categories = coco['categories']\n",
    "\n",
    "        number_of_images = len(images)\n",
    "\n",
    "        images_with_annotations = funcy.lmap(lambda a: int(a['image_id']), annotations)\n",
    "\n",
    "#         if args.having_annotations:\n",
    "        # ignore images without annotations\n",
    "        # this part is slow\n",
    "        images = funcy.lremove(lambda i: i['id'] not in images_with_annotations, images)\n",
    "\n",
    "        x, y = train_test_split(images, train_size=0.5)\n",
    "\n",
    "        save_coco('../datasets/coco/annotations/instances_train2017_subset1.json', info, \n",
    "                  licenses, x, filter_annotations(annotations, x), categories)\n",
    "        \n",
    "        save_coco('../datasets/coco/annotations/instances_train2017_subset2.json', info, \n",
    "                  licenses, y, filter_annotations(annotations, y), categories)\n",
    "\n",
    "        print(\"Saved {} entries in training and {} in testing\".format(len(x), len(y)))\n"
   ]
  },
  {
   "cell_type": "code",
   "execution_count": 9,
   "metadata": {},
   "outputs": [
    {
     "name": "stdout",
     "output_type": "stream",
     "text": [
      "Saved 58633 entries in training and 58633 in testing\n"
     ]
    }
   ],
   "source": [
    "main()"
   ]
  },
  {
   "cell_type": "code",
   "execution_count": null,
   "metadata": {},
   "outputs": [],
   "source": []
  }
 ],
 "metadata": {
  "kernelspec": {
   "display_name": "Python [conda env:mypy37]",
   "language": "python",
   "name": "conda-env-mypy37-py"
  },
  "language_info": {
   "codemirror_mode": {
    "name": "ipython",
    "version": 3
   },
   "file_extension": ".py",
   "mimetype": "text/x-python",
   "name": "python",
   "nbconvert_exporter": "python",
   "pygments_lexer": "ipython3",
   "version": "3.7.9"
  }
 },
 "nbformat": 4,
 "nbformat_minor": 4
}
