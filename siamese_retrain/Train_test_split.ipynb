{
 "cells": [
  {
   "cell_type": "markdown",
   "metadata": {},
   "source": [
    "## Train test split for targetlist"
   ]
  },
  {
   "cell_type": "code",
   "execution_count": 44,
   "metadata": {
    "scrolled": true
   },
   "outputs": [],
   "source": [
    "import os\n",
    "from sklearn.model_selection import train_test_split\n",
    "from collections import Counter\n",
    "import pickle"
   ]
  },
  {
   "cell_type": "code",
   "execution_count": 39,
   "metadata": {},
   "outputs": [],
   "source": [
    "x_list = []\n",
    "y_list = []\n",
    "targetlist_dict = {}\n",
    "\n",
    "ct = 0\n",
    "for brand in os.listdir('../phishpedia/expand_targetlist/'):\n",
    "    for x in os.listdir(os.path.join('../phishpedia/expand_targetlist/', brand)):\n",
    "        if x.endswith('.png') or x.endswith('.jpeg') or x.endswith('.JPG') or x.endswith('.jpg'):\n",
    "            if not x.startswith('homepage') and not x.startswith('loginpage'):\n",
    "                x_list.append(os.path.join(brand, x))\n",
    "                y_list.append(ct)\n",
    "\n",
    "\n",
    "    targetlist_dict[brand] = ct\n",
    "    ct += 1"
   ]
  },
  {
   "cell_type": "code",
   "execution_count": 41,
   "metadata": {},
   "outputs": [],
   "source": [
    "x_train, x_test, y_train, y_test = train_test_split(x_list, y_list, test_size=0.2, random_state=42,\n",
    "                                                    stratify=y_list)"
   ]
  },
  {
   "cell_type": "code",
   "execution_count": 47,
   "metadata": {},
   "outputs": [],
   "source": [
    "with open('train_targets.txt', 'a+') as f:\n",
    "    for x in x_train:\n",
    "        f.write(x+'\\n')"
   ]
  },
  {
   "cell_type": "code",
   "execution_count": 48,
   "metadata": {},
   "outputs": [],
   "source": [
    "with open('test_targets.txt', 'a+') as f:\n",
    "    for x in x_test:\n",
    "        f.write(x+'\\n')"
   ]
  },
  {
   "cell_type": "code",
   "execution_count": 49,
   "metadata": {},
   "outputs": [],
   "source": [
    "with open('target_dict.json', 'wb') as handle:\n",
    "    pickle.dump(targetlist_dict, handle)"
   ]
  },
  {
   "cell_type": "code",
   "execution_count": 51,
   "metadata": {},
   "outputs": [],
   "source": [
    "import torch.utils.data as data\n",
    "from PIL import Image, ImageOps\n",
    "import pickle\n",
    "import numpy as np\n",
    "\n",
    "\n",
    "class GetLoader(data.Dataset):\n",
    "    def __init__(self, data_root, data_list, label_dict, transform=None, grayscale=False):\n",
    "        \n",
    "        self.transform = transform\n",
    "        self.data_root = data_root\n",
    "        self.grayscale = grayscale\n",
    "        data_list = [x.strip('\\n') for x in open(data_list).readlines()]\n",
    "\n",
    "        with open(label_dict, 'rb') as handle:\n",
    "            self.label_dict = pickle.load(handle)\n",
    "\n",
    "        self.classes = list(self.label_dict.keys())\n",
    "\n",
    "        self.n_data = len(data_list)\n",
    "\n",
    "        self.img_paths = []\n",
    "        self.labels = []\n",
    "\n",
    "        for data in data_list:\n",
    "            image_path = data\n",
    "            label = image_path.split('/')[0]\n",
    "            self.img_paths.append(image_path)\n",
    "            self.labels.append(label)\n",
    "\n",
    "    def __getitem__(self, item):\n",
    "\n",
    "        img_path, label= self.img_paths[item], self.labels[item]\n",
    "        img_path_full = os.path.join(self.data_root, img_path)\n",
    "        if self.grayscale:\n",
    "            img = Image.open(img_path_full).convert('L').convert('RGB')\n",
    "        else:\n",
    "            img = Image.open(img_path_full).convert('RGB')\n",
    "\n",
    "        img = ImageOps.expand(img, (\n",
    "            (max(img.size) - img.size[0]) // 2, (max(img.size) - img.size[1]) // 2,\n",
    "            (max(img.size) - img.size[0]) // 2, (max(img.size) - img.size[1]) // 2), fill=(255, 255, 255))\n",
    "\n",
    "        # label = np.array(label,dtype='float32')\n",
    "        label = self.label_dict[label]\n",
    "        if self.transform is not None:\n",
    "            img = self.transform(img)\n",
    "\n",
    "        return img, label\n",
    "\n",
    "    def __len__(self):\n",
    "        return self.n_data"
   ]
  },
  {
   "cell_type": "code",
   "execution_count": 52,
   "metadata": {},
   "outputs": [],
   "source": [
    "train_set = GetLoader(data_root='../phishpedia/expand_targetlist',\n",
    "                      data_list='train_targets.txt',\n",
    "                      label_dict='target_dict.json',\n",
    "                      transform=None)"
   ]
  },
  {
   "cell_type": "markdown",
   "metadata": {},
   "source": [
    "## Convert RGBA into RGB"
   ]
  },
  {
   "cell_type": "code",
   "execution_count": 77,
   "metadata": {},
   "outputs": [],
   "source": [
    "from PIL import Image\n",
    "import cv2"
   ]
  },
  {
   "cell_type": "code",
   "execution_count": 102,
   "metadata": {},
   "outputs": [],
   "source": [
    "\n",
    "for brand in os.listdir('../phishpedia/expand_targetlist/'):\n",
    "    for x in os.listdir(os.path.join('../phishpedia/expand_targetlist/', brand)):\n",
    "        if x.endswith('.png') or x.endswith('.jpeg') or x.endswith('.JPG') or x.endswith('.jpg'):\n",
    "            if not x.startswith('homepage') and not x.startswith('loginpage'):\n",
    "                img = cv2.imread(os.path.join('../phishpedia/expand_targetlist/', brand, x))\n",
    "                if img.shape[-1] == 4:\n",
    "                    print(img.shape)\n",
    "                    img_new = img\n",
    "    "
   ]
  },
  {
   "cell_type": "code",
   "execution_count": 105,
   "metadata": {},
   "outputs": [
    {
     "name": "stdout",
     "output_type": "stream",
     "text": [
      "anadolubank/anadolubank-logo-E042456745-seeklogo.com.png\n",
      "Delta Air Lines/18.png\n"
     ]
    }
   ],
   "source": [
    "for x in [x.strip() for x in open('test_targets.txt').readlines()]:\n",
    "    if not os.path.exists(os.path.join('../phishpedia/expand_targetlist/', x)):\n",
    "        print(x)"
   ]
  },
  {
   "cell_type": "code",
   "execution_count": null,
   "metadata": {},
   "outputs": [],
   "source": []
  }
 ],
 "metadata": {
  "kernelspec": {
   "display_name": "Python 3",
   "language": "python",
   "name": "python3"
  },
  "language_info": {
   "codemirror_mode": {
    "name": "ipython",
    "version": 3
   },
   "file_extension": ".py",
   "mimetype": "text/x-python",
   "name": "python",
   "nbconvert_exporter": "python",
   "pygments_lexer": "ipython3",
   "version": "3.7.7"
  }
 },
 "nbformat": 4,
 "nbformat_minor": 4
}
